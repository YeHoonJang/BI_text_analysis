{
 "cells": [
  {
   "cell_type": "code",
   "execution_count": 1,
   "metadata": {
    "collapsed": true
   },
   "outputs": [],
   "source": [
    "import json\n",
    "import numpy as np\n",
    "from sklearn.preprocessing import MultiLabelBinarizer\n",
    "import nltk"
   ]
  },
  {
   "cell_type": "code",
   "execution_count": 2,
   "metadata": {
    "collapsed": true
   },
   "outputs": [],
   "source": [
    "with open(\"reviews_Books_5.json\",\"r\") as data_file:\n",
    "    raw_data=data_file.readlines()"
   ]
  },
  {
   "cell_type": "code",
   "execution_count": 3,
   "metadata": {
    "collapsed": false
   },
   "outputs": [
    {
     "name": "stdout",
     "output_type": "stream",
     "text": [
      "{\"reviewerID\": \"AAXUNK0W2DZG5\", \"asin\": \"0060520841\", \"reviewerName\": \"Amazon Customer \\\"leneker\\\"\", \"helpful\": [5, 10], \"reviewText\": \"1996 Bernard Goldberg wrote an editorial for the Wall Street Journal that said there was an obvious bias on the part of network new shows  for the liberal point of view.  he then illustrated this with an example that he dissected in-depth.  The reaction to this observation was the ruination of her career, and the beginning of his status as a pariah among most newsmen.  This book is used to add more ammo to the controversy.That the journalists who so eagerly pry into other peoples lives and business should be reluctant to be examined is hardly surprising.  Almost no one really wants to have his life or business dissected by Mike Wallace not even Dan Rather.  Some facts in this book are really potent such as the survey results which show how the average journalist and the average American are often vastly at odds.  Other chapters highlight different stories that TV news has covered and the analysis that Goldberg has made to point out the liberal bias.  His main theme is that while there is no conspiracy of the left, the fact is that most reporters are liberal but fewer still will admit it.There is some sound reasoning behind this book.  Sadly in execution, it doesn't come off as well as it could.  Goldberg has one argument in all the years he worked closely with Dan Rather (according to him) and yet it seems like all they did was fight.  Why ?  because Goldberg replays that one argument about 5 or 6 times in the book.  Much of the material that is thought provoking the first time around is pretty stale after the third or fourth reading. He kindly reprints the editorial that started the whole furor, too bad this was at the end of the book because the entire first chapter is just a rehash of that argument.  Too often Goldberg is reduced sounding like the bitter vindictive perso 93184\n"
     ]
    }
   ],
   "source": [
    "json_list = []\n",
    "for i in range(len(raw_data)):\n",
    "    try:\n",
    "        json_data = json.loads(raw_data[i])\n",
    "        json_list.append(json_data)\n",
    "    except:\n",
    "        print(raw_data[i],i)"
   ]
  },
  {
   "cell_type": "code",
   "execution_count": 4,
   "metadata": {
    "collapsed": false
   },
   "outputs": [
    {
     "data": {
      "text/plain": [
       "list"
      ]
     },
     "execution_count": 4,
     "metadata": {},
     "output_type": "execute_result"
    }
   ],
   "source": [
    "review_data = []\n",
    "\n",
    "for i in range(len(json_list)):\n",
    "    review_dict={}\n",
    "    review_dict[\"reviewText\"] = json_list[i][\"reviewText\"]\n",
    "    review_dict[\"overall\"] = json_list[i][\"overall\"]\n",
    "    review_data.append(review_dict)\n",
    "type(review_data)"
   ]
  },
  {
   "cell_type": "code",
   "execution_count": 5,
   "metadata": {
    "collapsed": false
   },
   "outputs": [
    {
     "data": {
      "text/plain": [
       "{'overall': 5.0,\n",
       " 'reviewText': \"In this , the second volume of Tolkein's classic trilogy , the pace of the action really picks up! After a modestly slow start in &quot;The Fellowship of the Ring&quot; , all of the major characters are in place and an action filled epic unfolds in a magical world best viewed in the marvelous images created by the author in one's own mind. Each reader has his own mental image of Frodo--of Gandalf--and of the despicable orcs.After the fall into the abyss of Gandalf the Grey with the Balrog  in &quot;The Fellowship&quot;, we see a new and awesomely powerful Gandalf the White emerge (an almost Biblical resurrection , to make a comparison).In this volume Treebeard the Ent is introduced , and the episodes of Merry and Pippin with the Ents are marvelously entertaining. The little folk , the Hobbits , show an unforseen inner strength that is one of the things I enjoy most in this tale.The strength of will and devotion of Samwise Gamgee to Frodo is heartwarming. The segement &quot;In Shelob's Lair&quot; is one of the more genuinely scary parts of the book.I probably shouldn't reveal too much more about what transpires in the story and spoil it for a first-time reader ; of the three volumes in the trilogy this is probably the most action filled and fun reading one , and is therefore my favorite.If you haven't read it yet--what are you waiting for?! Five stars don't do it justice!\"}"
      ]
     },
     "execution_count": 5,
     "metadata": {},
     "output_type": "execute_result"
    }
   ],
   "source": [
    "import random\n",
    "random_data = random.sample(review_data,len(review_data))\n",
    "random_data[0]"
   ]
  },
  {
   "cell_type": "code",
   "execution_count": 6,
   "metadata": {
    "collapsed": false
   },
   "outputs": [
    {
     "name": "stdout",
     "output_type": "stream",
     "text": [
      "[nltk_data] Downloading package stopwords to\n",
      "[nltk_data]     C:\\Users\\samsung\\AppData\\Roaming\\nltk_data...\n",
      "[nltk_data]   Package stopwords is already up-to-date!\n"
     ]
    },
    {
     "data": {
      "text/plain": [
       "True"
      ]
     },
     "execution_count": 6,
     "metadata": {},
     "output_type": "execute_result"
    }
   ],
   "source": [
    "nltk.download('stopwords')"
   ]
  },
  {
   "cell_type": "code",
   "execution_count": 7,
   "metadata": {
    "collapsed": true
   },
   "outputs": [],
   "source": [
    "reviewText = []\n",
    "for i in range(len(random_data)):\n",
    "    reviewText.append(random_data[i][\"reviewText\"])"
   ]
  },
  {
   "cell_type": "code",
   "execution_count": 11,
   "metadata": {
    "collapsed": true
   },
   "outputs": [],
   "source": [
    "from sklearn.feature_extraction.text import TfidfVectorizer\n",
    "vectorizer = TfidfVectorizer(analyzer='word', sublinear_tf=True, max_df = 0.3, min_df = 0.004, lowercase=True, stop_words = 'english')\n",
    "D = vectorizer.fit_transform(reviewText)\n",
    "# max_df = 0.4 , min_df 0.01 , Accuracy = 49%\n",
    "# max_df = 0.4 , min_df 0.0.005 , Accuracy = 53%\n",
    "# max_df = 0.4 , min_df 0.0.004 , Accuracy = ?\n",
    "\n",
    "# 40%제거 vectorizer = TfidfVectorizer(analyzer='word', sublinear_tf=True, max_df = 0.3, min_df = 2, lowercase=True, stop_words = 'english')\n",
    "# default : (93184, 116502)\n",
    "# (93184, 60901)"
   ]
  },
  {
   "cell_type": "code",
   "execution_count": 12,
   "metadata": {
    "collapsed": false
   },
   "outputs": [
    {
     "data": {
      "text/plain": [
       "(93184, 2504)"
      ]
     },
     "execution_count": 12,
     "metadata": {},
     "output_type": "execute_result"
    }
   ],
   "source": [
    "D.shape"
   ]
  },
  {
   "cell_type": "code",
   "execution_count": 13,
   "metadata": {
    "collapsed": false
   },
   "outputs": [
    {
     "name": "stdout",
     "output_type": "stream",
     "text": [
      "[[ 0.  0.  0. ...,  0.  0.  0.]\n",
      " [ 0.  0.  0. ...,  0.  0.  0.]\n",
      " [ 0.  0.  0. ...,  0.  0.  0.]\n",
      " ..., \n",
      " [ 0.  0.  0. ...,  0.  0.  0.]\n",
      " [ 0.  0.  0. ...,  0.  0.  0.]\n",
      " [ 0.  0.  0. ...,  0.  0.  0.]]\n"
     ]
    }
   ],
   "source": [
    "D = D.toarray()\n",
    "print(D)\n",
    "#리스트로 만듬"
   ]
  },
  {
   "cell_type": "code",
   "execution_count": 14,
   "metadata": {
    "collapsed": true
   },
   "outputs": [],
   "source": [
    "y_data = []\n",
    "int_y_data = []\n",
    "for i in range(len(random_data)):\n",
    "    y_data.append(random_data[i][\"overall\"])\n",
    "for i in y_data:\n",
    "    int_y_data.append((int(i),))"
   ]
  },
  {
   "cell_type": "code",
   "execution_count": 15,
   "metadata": {
    "collapsed": true
   },
   "outputs": [],
   "source": [
    "y_data = np.array(MultiLabelBinarizer().fit_transform(int_y_data))"
   ]
  },
  {
   "cell_type": "code",
   "execution_count": 16,
   "metadata": {
    "collapsed": false
   },
   "outputs": [
    {
     "data": {
      "text/plain": [
       "(93184, 5)"
      ]
     },
     "execution_count": 16,
     "metadata": {},
     "output_type": "execute_result"
    }
   ],
   "source": [
    "y_data.shape"
   ]
  },
  {
   "cell_type": "code",
   "execution_count": 17,
   "metadata": {
    "collapsed": true
   },
   "outputs": [],
   "source": [
    "from sklearn.model_selection import train_test_split\n",
    "x_train, x_test, y_train, y_test = train_test_split(D, y_data, test_size=0.2, random_state=22)"
   ]
  },
  {
   "cell_type": "code",
   "execution_count": 19,
   "metadata": {
    "collapsed": false
   },
   "outputs": [
    {
     "name": "stdout",
     "output_type": "stream",
     "text": [
      "0 24377.5\n",
      "100 0.0683588\n"
     ]
    }
   ],
   "source": [
    "import tensorflow as tf\n",
    "\n",
    "x = tf.placeholder(tf.float32, [93184, 2504])\n",
    "\n",
    "w1 = tf.Variable(tf.truncated_normal([2504, 300], stddev = 0.1))\n",
    "b1 = tf.Variable(tf.truncated_normal([300]))\n",
    "w2 = tf.Variable(tf.truncated_normal([300, 5], stddev = 0.1))\n",
    "b2 = tf.Variable(tf.truncated_normal([5]))\n",
    "\n",
    "output =  tf.sigmoid(tf.matmul(x, w1) + b1)\n",
    "hypothesis = tf.sigmoid(tf.matmul(output,w2)+b2)\n",
    "\n",
    "cost = -tf.reduce_sum(y_data * tf.log(tf.clip_by_value(hypothesis,1e-10,1.0)))\n",
    "train_step = tf.train.AdamOptimizer(0.01).minimize(cost)\n",
    "\n",
    "init = tf.global_variables_initializer()\n",
    "sess = tf.Session()\n",
    "sess.run(init)\n",
    "\n",
    "for i in range(200):\n",
    "    sess.run(train_step, feed_dict={x:D})\n",
    "    if i % 100 == 0:\n",
    "        print(i, sess.run(cost, feed_dict={x:D}))\n",
    "        \n",
    "# 뉴럴넷\n",
    "# 0.1 , 0.01 49%\n",
    "# 0.1 , 0.005 53%\n",
    "# 300 : 2034, 53%\n",
    "# 300 : 60901 ??"
   ]
  },
  {
   "cell_type": "code",
   "execution_count": 20,
   "metadata": {
    "collapsed": false
   },
   "outputs": [
    {
     "name": "stdout",
     "output_type": "stream",
     "text": [
      "0.521828\n"
     ]
    }
   ],
   "source": [
    "correct_prediction = tf.equal(tf.argmax(hypothesis, 1), tf.argmax(y_data,1))\n",
    "accuracy = tf.reduce_mean(tf.cast(correct_prediction, tf.float32))\n",
    "\n",
    "print(sess.run(accuracy, feed_dict={x: D}))\n",
    "# 정확도 측정"
   ]
  },
  {
   "cell_type": "code",
   "execution_count": 21,
   "metadata": {
    "collapsed": false
   },
   "outputs": [
    {
     "name": "stdout",
     "output_type": "stream",
     "text": [
      "[[ 0.99999845  0.99999917  0.99999893  0.99999917  0.99999976]\n",
      " [ 0.99999833  0.99999869  0.99999833  0.99999893  0.99999905]\n",
      " [ 0.99999857  0.99999905  0.99999881  0.99999917  0.99999952]\n",
      " ..., \n",
      " [ 0.99999857  0.99999881  0.99999857  0.99999893  0.99999905]\n",
      " [ 0.99999845  0.99999881  0.99999845  0.99999893  0.99999905]\n",
      " [ 0.99999833  0.99999869  0.99999833  0.99999893  0.99999893]]\n"
     ]
    }
   ],
   "source": [
    "print(sess.run(hypothesis, feed_dict={x: D}))\n",
    "# 결과값"
   ]
  },
  {
   "cell_type": "code",
   "execution_count": 22,
   "metadata": {
    "collapsed": false
   },
   "outputs": [
    {
     "name": "stdout",
     "output_type": "stream",
     "text": [
      "[4 4 4 ..., 4 4 3]\n"
     ]
    }
   ],
   "source": [
    "\n",
    "print(sess.run(tf.argmax(hypothesis, 1), feed_dict={x: D}))\n",
    "# 결과값 중에 높은 인덱스 가져오기"
   ]
  }
 ],
 "metadata": {
  "kernelspec": {
   "display_name": "Python 3",
   "language": "python",
   "name": "python3"
  },
  "language_info": {
   "codemirror_mode": {
    "name": "ipython",
    "version": 3
   },
   "file_extension": ".py",
   "mimetype": "text/x-python",
   "name": "python",
   "nbconvert_exporter": "python",
   "pygments_lexer": "ipython3",
   "version": "3.5.3"
  }
 },
 "nbformat": 4,
 "nbformat_minor": 2
}
