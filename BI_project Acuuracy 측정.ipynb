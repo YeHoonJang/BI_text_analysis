{
 "cells": [
  {
   "cell_type": "code",
   "execution_count": 1,
   "metadata": {
    "collapsed": true,
    "deletable": true,
    "editable": true
   },
   "outputs": [],
   "source": [
    "import json\n",
    "import numpy as np\n",
    "from sklearn.preprocessing import MultiLabelBinarizer\n",
    "import nltk"
   ]
  },
  {
   "cell_type": "code",
   "execution_count": 2,
   "metadata": {
    "collapsed": true,
    "deletable": true,
    "editable": true
   },
   "outputs": [],
   "source": [
    "with open(\"reviews_Books_5.json\",\"r\") as data_file:\n",
    "    raw_data=data_file.readlines()"
   ]
  },
  {
   "cell_type": "code",
   "execution_count": 3,
   "metadata": {
    "collapsed": false,
    "deletable": true,
    "editable": true
   },
   "outputs": [
    {
     "name": "stdout",
     "output_type": "stream",
     "text": [
      "{\"reviewerID\": \"AAXUNK0W2DZG5\", \"asin\": \"0060520841\", \"reviewerName\": \"Amazon Customer \\\"leneker\\\"\", \"helpful\": [5, 10], \"reviewText\": \"1996 Bernard Goldberg wrote an editorial for the Wall Street Journal that said there was an obvious bias on the part of network new shows  for the liberal point of view.  he then illustrated this with an example that he dissected in-depth.  The reaction to this observation was the ruination of her career, and the beginning of his status as a pariah among most newsmen.  This book is used to add more ammo to the controversy.That the journalists who so eagerly pry into other peoples lives and business should be reluctant to be examined is hardly surprising.  Almost no one really wants to have his life or business dissected by Mike Wallace not even Dan Rather.  Some facts in this book are really potent such as the survey results which show how the average journalist and the average American are often vastly at odds.  Other chapters highlight different stories that TV news has covered and the analysis that Goldberg has made to point out the liberal bias.  His main theme is that while there is no conspiracy of the left, the fact is that most reporters are liberal but fewer still will admit it.There is some sound reasoning behind this book.  Sadly in execution, it doesn't come off as well as it could.  Goldberg has one argument in all the years he worked closely with Dan Rather (according to him) and yet it seems like all they did was fight.  Why ?  because Goldberg replays that one argument about 5 or 6 times in the book.  Much of the material that is thought provoking the first time around is pretty stale after the third or fourth reading. He kindly reprints the editorial that started the whole furor, too bad this was at the end of the book because the entire first chapter is just a rehash of that argument.  Too often Goldberg is reduced sounding like the bitter vindictive perso 93184\n"
     ]
    }
   ],
   "source": [
    "json_list = []\n",
    "for i in range(len(raw_data)):\n",
    "    try:\n",
    "        json_data = json.loads(raw_data[i])\n",
    "        json_list.append(json_data)\n",
    "    except:\n",
    "        print(raw_data[i],i)"
   ]
  },
  {
   "cell_type": "code",
   "execution_count": 4,
   "metadata": {
    "collapsed": false,
    "deletable": true,
    "editable": true
   },
   "outputs": [
    {
     "name": "stdout",
     "output_type": "stream",
     "text": [
      "{'reviewerID': 'A10000012B7CGYKOMPQ4L', 'reviewTime': '12 16, 2012', 'reviewText': 'Spiritually and mentally inspiring! A book that allows you to question your morals and will help you discover who you really are!', 'unixReviewTime': 1355616000, 'helpful': [0, 0], 'summary': 'Wonderful!', 'asin': '000100039X', 'reviewerName': 'Adam', 'overall': 5.0}\n"
     ]
    }
   ],
   "source": [
    "print(json_list[0])"
   ]
  },
  {
   "cell_type": "code",
   "execution_count": 5,
   "metadata": {
    "collapsed": false,
    "deletable": true,
    "editable": true
   },
   "outputs": [
    {
     "data": {
      "text/plain": [
       "list"
      ]
     },
     "execution_count": 5,
     "metadata": {},
     "output_type": "execute_result"
    }
   ],
   "source": [
    "review_data = []\n",
    "\n",
    "for i in range(len(json_list)):\n",
    "    review_dict={}\n",
    "    review_dict[\"reviewText\"] = json_list[i][\"reviewText\"]\n",
    "    review_dict[\"overall\"] = json_list[i][\"overall\"]\n",
    "    review_data.append(review_dict)\n",
    "type(review_data)"
   ]
  },
  {
   "cell_type": "code",
   "execution_count": 6,
   "metadata": {
    "collapsed": false,
    "deletable": true,
    "editable": true
   },
   "outputs": [
    {
     "data": {
      "text/plain": [
       "{'overall': 4.0,\n",
       " 'reviewText': 'A very good author.  Nice to read his point of view.  I have a better understanding of what went on during the time Mr. North writes about'}"
      ]
     },
     "execution_count": 6,
     "metadata": {},
     "output_type": "execute_result"
    }
   ],
   "source": [
    "import random\n",
    "random_data = random.sample(review_data,len(review_data))\n",
    "random_data[0]"
   ]
  },
  {
   "cell_type": "code",
   "execution_count": 7,
   "metadata": {
    "collapsed": false,
    "deletable": true,
    "editable": true
   },
   "outputs": [
    {
     "data": {
      "text/plain": [
       "'A very good author.  Nice to read his point of view.  I have a better understanding of what went on during the time Mr. North writes about'"
      ]
     },
     "execution_count": 7,
     "metadata": {},
     "output_type": "execute_result"
    }
   ],
   "source": [
    "random_data[0]['reviewText']"
   ]
  },
  {
   "cell_type": "code",
   "execution_count": 8,
   "metadata": {
    "collapsed": false,
    "deletable": true,
    "editable": true
   },
   "outputs": [
    {
     "name": "stdout",
     "output_type": "stream",
     "text": [
      "[nltk_data] Downloading package stopwords to\n",
      "[nltk_data]     C:\\Users\\samsung\\AppData\\Roaming\\nltk_data...\n",
      "[nltk_data]   Package stopwords is already up-to-date!\n"
     ]
    },
    {
     "data": {
      "text/plain": [
       "True"
      ]
     },
     "execution_count": 8,
     "metadata": {},
     "output_type": "execute_result"
    }
   ],
   "source": [
    "nltk.download('stopwords')"
   ]
  },
  {
   "cell_type": "code",
   "execution_count": null,
   "metadata": {
    "collapsed": false,
    "deletable": true,
    "editable": true
   },
   "outputs": [],
   "source": [
    "# 원형으로 변환해줌\n",
    "stemming_total = []\n",
    "from nltk.stem.porter import PorterStemmer\n",
    "porter = PorterStemmer()\n",
    "\n",
    "def tokenizer_porter(text):\n",
    "    return [porter.stem(word) for word in text.split()]\n",
    "\n",
    "for i in range(len(random_data)):\n",
    "    try:\n",
    "        stemming_total.append(tokenizer_porter([random_data[i]['reviewText']]))\n",
    "    except:\n",
    "        pass"
   ]
  },
  {
   "cell_type": "code",
   "execution_count": 17,
   "metadata": {
    "collapsed": false
   },
   "outputs": [
    {
     "name": "stdout",
     "output_type": "stream",
     "text": [
      "[['A', 'veri', 'good', 'author.', 'nice', 'to', 'read', 'hi', 'point', 'of', 'view.', 'I', 'have', 'a', 'better', 'understand', 'of', 'what', 'went', 'on', 'dure', 'the', 'time', 'mr.', 'north', 'write', 'about'], ['I', 'onli', 'subject', 'myself', 'to', 'one', 'half', 'of', 'the', 'free', 'sample.', 'that', 'peopl', 'could', 'regard', 'thi', 'as', 'a', 'great', 'novel', 'is', 'beyond', 'my', 'comprehension.', 'I', 'will', 'not', 'be', 'buy', 'the', 'complet', 'file.john', 'beyerleinliz', '&', 'dick'], ['thi', 'tell', 'the', 'stori', 'of', 'fiona', 'sampson', 'from', 'the', 'third', 'person', 'point', 'of', 'view', 'and', 'not', \"bernard's.\", 'after', 'read', 'thi', 'stori', 'I', 'hate', 'everi', 'charact', 'in', 'the', 'seri', 'except', 'bernard,', 'gloria,', 'and', 'the', 'children.', 'It', 'will', 'make', 'you', 'want', 'to', 'see', 'sila', 'gaunt', 'and', 'bret', 'ressel', 'get', 'the', 'ax.', 'If', 'you', 'have', 'read', 'winter', 'then', 'four', 'page', 'of', 'thi', 'book', 'will', 'iterest', 'you', 'becaus', 'they', 'tell', 'the', 'final', 'fate', 'of', 'the', 'central', 'charact', 'in', 'that', 'novel', 'and', 'make', 'it', 'even', 'more', 'heartbreaking.'], ['ron', 'hansen', 'use', 'hi', 'stori', 'to', 'take', 'you', 'down', 'from', 'all', 'the', 'big', 'imag', 'of', 'nazi', 'germani', 'to', 'a', 'level', 'where', 'you', 'feel', 'you', 'can', 'almost', 'experi', 'it', 'as', 'it', 'is', 'born', 'and', 'grows.', 'hi', 'character', 'of', 'hitler', 'seesaw', 'back', 'and', 'forth.', 'one', 'moment', 'you', 'think', 'you', 'might', 'almost', 'sympath', 'with', 'the', 'fail', 'artist/dictator,', 'but', 'then', 'hi', 'other', 'side', 'shine', 'through', 'and', 'dispel', 'your', 'illusions.', 'even', 'better', 'is', \"hansen'\", 'portray', 'of', 'angelika,', \"hitler'\", 'niec', 'who', 'is', 'groom', 'to', 'becom', 'hi', 'lover.', 'her', 'repulsion/attract', 'to', 'hitler', 'is', 'render', 'in', 'a', 'veri', 'believ', 'manner.thi', 'wa', 'my', 'first', 'time', 'read', 'hansen,', 'but', 'I', 'plan', 'to', 'go', 'back', 'for', 'more.', \"hitler'\", 'niec', 'is', 'clearli', 'the', 'work', 'of', 'a', 'master.'], ['I', \"didn't\", 'think', 'the', 'second', 'book', 'would', 'be', 'better', 'than', 'the', 'first,but', 'boy', 'wa', 'I', 'wrong.', 'the', 'stori', 'is', 'told', 'so', 'well', 'with', 'so', 'much', 'action', 'I', 'read', 'the', 'book', 'in', 'just', 'a', 'few', 'days.'], ['great', 'story.', 'I', 'realli', 'enjoy', 'the', \"author'\", 'wiritngs.', 'got', 'hook', 'after', 'read', 'the', '&#34;round', 'house&#34;.', 'Sh', 'is', 'a', 'true', 'storytel', '-', 'weav', 'intric', 'stori', 'that', 'cover', 'a', 'whole', 'host', 'of', 'characters.', 'agn', 'wa', 'an', 'incred', 'person', '!'], ['thi', 'is', 'my', 'fourth', 'marian', 'key', 'book', 'in', 'as', 'mani', 'month', 'and', 'I', 'am', 'hooked!', 'give', 'me', 'more!', 'she', 'doe', 'a', 'fabul', 'job', 'of', 'let', 'us', 'peek', 'into', 'the', 'live', 'of', 'tara,', 'katherin', 'and', 'fintan.', 'these', 'three', 'lovabl', 'charact', 'are', 'best', 'friends.', 'A', 'life-chang', 'event', 'prompt', 'them', 'all', 'to', 'move', 'away', 'from', 'their', 'complac', 'habit', 'and', 'find', 'what', 'it', 'is', 'that', 'truli', 'make', 'them', 'tick.', 'oh,', 'marian,', 'when', 'will', 'your', 'next', 'book', 'come', 'out?'], ['while', 'the', 'author', 'is', 'a', 'master', 'craftsman,', 'she', 'miss', 'me', 'on', 'thi', 'one.', 'the', 'grusom', 'begin', 'and', 'the', 'jerki', 'flow', 'wa', 'too', 'much.i', \"didn't\", 'even', 'finish', 'the', 'book', '--', 'and', 'that', 'is', 'veri', 'rare', 'for', 'me.'], ['veri', 'good', 'short', 'stori', 'about', 'a', 'man,', 'hi', 'passion', 'and', 'dreams.', 'If', 'you', 'want', 'to', 'read', 'at', 'least', 'one', 'book', 'from', 'hemingway,', 'thi', 'is', 'the', 'one.', 'It', 'is', 'defenit', 'worthwhil', 'to', 'be', 'read', 'and', 'it', 'will', 'onli', 'take', 'you', '2-3', 'hours.', 'read', 'it', 'and', '\"dream', 'with', 'lions.......\".'], ['allegiant,', 'book', '3', 'of', 'the', 'diverg', 'series,', 'start', 'off', 'slower', 'than', 'the', 'other', 'two', 'books,', 'howev', 'I', 'still', 'like', 'it.', 'I', 'wa', 'surpris', 'a', 'coupl', 'time', 'in', 'thi', 'novel.', 'I', 'wa', 'a', 'littl', 'disappoint', 'and', 'shock', 'by', 'the', \"author'\", 'choic', 'to', 'end', 'one', \"character'\", 'life.', 'I', \"don't\", 'want', 'to', 'give', 'ani', 'spoilers,', 'so', 'I', \"won't\", 'say', 'who.', 'for', 'closur', 'of', 'a', 'seri', 'I', 'would', 'recommend', 'thi', 'book,', 'howev', 'be', 'prepar', 'for', 'some', 'unexpect', 'turns.']]\n"
     ]
    }
   ],
   "source": [
    "print(stemming_total[:10])"
   ]
  },
  {
   "cell_type": "code",
   "execution_count": null,
   "metadata": {
    "collapsed": true,
    "deletable": true,
    "editable": true
   },
   "outputs": [],
   "source": [
    "# 관사 접속사 제거\n",
    "stopword_total = []\n",
    "from nltk.corpus import stopwords\n",
    "stop = stopwords.words('english')\n",
    "\n",
    "for i in range(len(stemming_total)):\n",
    "    for j in stemming_total[i]:\n",
    "        if j not in stop:\n",
    "            stopword_total.append(j)"
   ]
  },
  {
   "cell_type": "code",
   "execution_count": null,
   "metadata": {
    "collapsed": true,
    "deletable": true,
    "editable": true
   },
   "outputs": [],
   "source": [
    "len(stopword_total)"
   ]
  },
  {
   "cell_type": "code",
   "execution_count": null,
   "metadata": {
    "collapsed": true,
    "deletable": true,
    "editable": true
   },
   "outputs": [],
   "source": [
    "word= ['classic','full','main','open','modern','usual','basic','total','poor','stupid','full','hard','short']\n",
    "\n",
    "# value_list_texts1 = []\n",
    "# value_list_texts2 = []\n",
    "# value_list_texts3 = []\n",
    "# value_list_texts4 = []\n",
    "# value_list_texts5 = []\n",
    "\n",
    "for i in range(len(choose_tagging_texts1)):\n",
    "    value_list_texts1.append([])\n",
    "    for j in choose_tagging_texts1[i]:\n",
    "        if j in word:\n",
    "            value_list_texts1[i].append(j)\n",
    "\n",
    "# for i in range(len(choose_tagging_texts2)):\n",
    "#     value_list_texts2.append([])\n",
    "#     for j in choose_tagging_texts2[i]:\n",
    "#         if j in word:\n",
    "#             value_list_texts2[i].append(j)\n",
    "\n",
    "# for i in range(len(choose_tagging_texts3)):\n",
    "#     value_list_texts3.append([])\n",
    "#     for j in choose_tagging_texts3[i]:\n",
    "#         if j in word:\n",
    "#             value_list_texts3[i].append(j)\n",
    "            \n",
    "# for i in range(len(choose_tagging_texts4)):\n",
    "#     value_list_texts4.append([])\n",
    "#     for j in choose_tagging_texts4[i]:\n",
    "#         if j in word:\n",
    "#             value_list_texts4[i].append(j)\n",
    "            \n",
    "# for i in range(len(choose_tagging_texts5)):\n",
    "#     value_list_texts5.append([])\n",
    "#     for j in choose_tagging_texts5[i]:\n",
    "#         if j in word:\n",
    "#             value_list_texts5[i].append(j)"
   ]
  },
  {
   "cell_type": "code",
   "execution_count": null,
   "metadata": {
    "collapsed": true,
    "deletable": true,
    "editable": true
   },
   "outputs": [],
   "source": [
    "word= ['classic','full','main','open','modern','usual','basic','total','poor','stupid','full','hard','short']\n",
    "value_list = []\n",
    "for i in range(len(random_data)):\n",
    "    value_list.append([])\n",
    "    for j in random_data[i]:\n",
    "        if j in word:\n",
    "            value_list[i].append(j)"
   ]
  },
  {
   "cell_type": "code",
   "execution_count": null,
   "metadata": {
    "collapsed": true,
    "deletable": true,
    "editable": true
   },
   "outputs": [],
   "source": [
    "random_data[1]['reviewText']"
   ]
  },
  {
   "cell_type": "code",
   "execution_count": null,
   "metadata": {
    "collapsed": true
   },
   "outputs": [],
   "source": [
    "for i in range(len(value_list_text1)):\n",
    "    value_list_text1[i] = \" \".join(value_list_text1[i])\n",
    "for i in range(len(value_list_text2)):\n",
    "    value_list_text2[i] = \" \".join(value_list_text2[i])\n",
    "for i in range(len(value_list_text3)):\n",
    "    value_list_text3[i] = \" \".join(value_list_text3[i])\n",
    "for i in range(len(value_list_text4)):\n",
    "    value_list_text4[i] = \" \".join(value_list_text4[i])\n",
    "for i in range(len(value_list_text)):\n",
    "    value_list_text1[i] = \" \".join(value_list_text1[i])"
   ]
  },
  {
   "cell_type": "code",
   "execution_count": null,
   "metadata": {
    "collapsed": true
   },
   "outputs": [],
   "source": [
    "from sklearn.feature_extraction.text import TfidfVectorizer\n",
    "vectorizer = TfidfVectorizer(min_df=1)\n",
    "D = vectorizer.fit_transform(final_list)"
   ]
  },
  {
   "cell_type": "code",
   "execution_count": null,
   "metadata": {
    "collapsed": true
   },
   "outputs": [],
   "source": [
    "D = D.toarray()\n",
    "print(D)\n",
    "#리스트로 만듬"
   ]
  },
  {
   "cell_type": "code",
   "execution_count": null,
   "metadata": {
    "collapsed": true
   },
   "outputs": [],
   "source": [
    "D.shape\n",
    "# 행,렬 "
   ]
  },
  {
   "cell_type": "code",
   "execution_count": null,
   "metadata": {
    "collapsed": true
   },
   "outputs": [],
   "source": [
    "y_data_high = []\n",
    "y_data_medium = []\n",
    "y_data_low = []\n",
    "\n",
    "for i in Y:\n",
    "    if i==0:\n",
    "        y_data_high.append(i)\n",
    "    elif i == 1:\n",
    "        y_data_medium.append(i)\n",
    "    else:\n",
    "        y_data_low.append(i)"
   ]
  },
  {
   "cell_type": "code",
   "execution_count": null,
   "metadata": {
    "collapsed": true
   },
   "outputs": [],
   "source": [
    "y_data = y_data_high + y_data_medium + y_data_low"
   ]
  },
  {
   "cell_type": "code",
   "execution_count": null,
   "metadata": {
    "collapsed": true
   },
   "outputs": [],
   "source": [
    "y_data.shape"
   ]
  },
  {
   "cell_type": "code",
   "execution_count": null,
   "metadata": {
    "collapsed": true
   },
   "outputs": [],
   "source": [
    "y_data_T = y_data.T"
   ]
  },
  {
   "cell_type": "code",
   "execution_count": null,
   "metadata": {
    "collapsed": true
   },
   "outputs": [],
   "source": [
    "y_data_T.shape"
   ]
  },
  {
   "cell_type": "code",
   "execution_count": null,
   "metadata": {
    "collapsed": true
   },
   "outputs": [],
   "source": [
    "import tensorflow as tf\n",
    "\n",
    "x = tf.placeholder(tf.float32, [49352, 4])\n",
    "\n",
    "w1 = tf.Variable(tf.truncated_normal([4, 3], stddev = 0.1))\n",
    "b1 = tf.Variable(tf.truncated_normal([3]))\n",
    "#w2 = tf.Variable(tf.truncated_normal([50, 3], stddev = 0.1))\n",
    "#b2 = tf.Variable(tf.truncated_normal([3]))\n",
    "\n",
    "hypothesis =  tf.sigmoid(tf.matmul(x, w1) + b1)\n",
    "#hypothesis = tf.sigmoid(tf.matmul(output,w2)+b2)\n",
    "\n",
    "cost = -tf.reduce_sum(y_data_T * tf.log(tf.clip_by_value(hypothesis,1e-10,1.0)))\n",
    "train_step = tf.train.AdamOptimizer(0.01).minimize(cost)\n",
    "\n",
    "init = tf.global_variables_initializer()\n",
    "sess = tf.Session()\n",
    "sess.run(init)\n",
    "\n",
    "for i in range(200):\n",
    "    sess.run(train_step, feed_dict={x:D})\n",
    "    if i % 100 == 0:\n",
    "        print(i, sess.run(cost, feed_dict={x:D}))\n",
    "        \n",
    "# 뉴럴넷"
   ]
  },
  {
   "cell_type": "code",
   "execution_count": null,
   "metadata": {
    "collapsed": true
   },
   "outputs": [],
   "source": [
    "correct_prediction = tf.equal(tf.argmax(hypothesis, 1), tf.argmax(y_data,1))\n",
    "accuracy = tf.reduce_mean(tf.cast(correct_prediction, tf.float32))\n",
    "\n",
    "print(sess.run(accuracy, feed_dict={x: D}))\n",
    "# 정확도 측정"
   ]
  },
  {
   "cell_type": "code",
   "execution_count": null,
   "metadata": {
    "collapsed": true
   },
   "outputs": [],
   "source": [
    "print(sess.run(hypothesis, feed_dict={x: D}))\n",
    "# 결과값"
   ]
  },
  {
   "cell_type": "code",
   "execution_count": null,
   "metadata": {
    "collapsed": true
   },
   "outputs": [],
   "source": [
    "print(sess.run(tf.argmax(hypothesis, 1), feed_dict={x: D}))\n",
    "# 결과값 중에 높은 인덱스 가져오기"
   ]
  }
 ],
 "metadata": {
  "kernelspec": {
   "display_name": "Python 3",
   "language": "python",
   "name": "python3"
  },
  "language_info": {
   "codemirror_mode": {
    "name": "ipython",
    "version": 3
   },
   "file_extension": ".py",
   "mimetype": "text/x-python",
   "name": "python",
   "nbconvert_exporter": "python",
   "pygments_lexer": "ipython3",
   "version": "3.5.3"
  }
 },
 "nbformat": 4,
 "nbformat_minor": 2
}
