{
 "cells": [
  {
   "cell_type": "code",
   "execution_count": 3,
   "metadata": {
    "collapsed": true,
    "deletable": true,
    "editable": true
   },
   "outputs": [],
   "source": [
    "import json\n",
    "import numpy as np\n",
    "from sklearn.preprocessing import MultiLabelBinarizer\n",
    "import nltk"
   ]
  },
  {
   "cell_type": "code",
   "execution_count": 4,
   "metadata": {
    "collapsed": false,
    "deletable": true,
    "editable": true
   },
   "outputs": [],
   "source": [
    "with open(\"reviews_Books_5.json\",\"r\") as data_file:\n",
    "    raw_data=data_file.readlines()"
   ]
  },
  {
   "cell_type": "code",
   "execution_count": 5,
   "metadata": {
    "collapsed": false,
    "deletable": true,
    "editable": true
   },
   "outputs": [
    {
     "name": "stdout",
     "output_type": "stream",
     "text": [
      "{\"reviewerID\": \"AAXUNK0W2DZG5\", \"asin\": \"0060520841\", \"reviewerName\": \"Amazon Customer \\\"leneker\\\"\", \"helpful\": [5, 10], \"reviewText\": \"1996 Bernard Goldberg wrote an editorial for the Wall Street Journal that said there was an obvious bias on the part of network new shows  for the liberal point of view.  he then illustrated this with an example that he dissected in-depth.  The reaction to this observation was the ruination of her career, and the beginning of his status as a pariah among most newsmen.  This book is used to add more ammo to the controversy.That the journalists who so eagerly pry into other peoples lives and business should be reluctant to be examined is hardly surprising.  Almost no one really wants to have his life or business dissected by Mike Wallace not even Dan Rather.  Some facts in this book are really potent such as the survey results which show how the average journalist and the average American are often vastly at odds.  Other chapters highlight different stories that TV news has covered and the analysis that Goldberg has made to point out the liberal bias.  His main theme is that while there is no conspiracy of the left, the fact is that most reporters are liberal but fewer still will admit it.There is some sound reasoning behind this book.  Sadly in execution, it doesn't come off as well as it could.  Goldberg has one argument in all the years he worked closely with Dan Rather (according to him) and yet it seems like all they did was fight.  Why ?  because Goldberg replays that one argument about 5 or 6 times in the book.  Much of the material that is thought provoking the first time around is pretty stale after the third or fourth reading. He kindly reprints the editorial that started the whole furor, too bad this was at the end of the book because the entire first chapter is just a rehash of that argument.  Too often Goldberg is reduced sounding like the bitter vindictive perso 93184\n"
     ]
    }
   ],
   "source": [
    "json_list = []\n",
    "for i in range(len(raw_data)):\n",
    "    try:\n",
    "        json_data = json.loads(raw_data[i])\n",
    "        json_list.append(json_data)\n",
    "    except:\n",
    "        print(raw_data[i],i)"
   ]
  },
  {
   "cell_type": "code",
   "execution_count": 6,
   "metadata": {
    "collapsed": true,
    "deletable": true,
    "editable": true
   },
   "outputs": [],
   "source": [
    "review_data = []\n",
    "\n",
    "for i in range(len(json_list)):\n",
    "    review_dict={}\n",
    "    review_dict[\"reviewText\"] = json_list[i][\"reviewText\"]\n",
    "    review_dict[\"overall\"] = json_list[i][\"overall\"]\n",
    "    review_data.append(review_dict)"
   ]
  },
  {
   "cell_type": "code",
   "execution_count": 7,
   "metadata": {
    "collapsed": true,
    "deletable": true,
    "editable": true
   },
   "outputs": [],
   "source": [
    "import random\n",
    "random_data = random.sample(review_data,len(review_data))"
   ]
  },
  {
   "cell_type": "code",
   "execution_count": 8,
   "metadata": {
    "collapsed": true,
    "deletable": true,
    "editable": true
   },
   "outputs": [],
   "source": [
    "reviewText = []\n",
    "for i in range(len(random_data)):\n",
    "    reviewText.append(random_data[i][\"reviewText\"])"
   ]
  },
  {
   "cell_type": "code",
   "execution_count": 9,
   "metadata": {
    "collapsed": true,
    "deletable": true,
    "editable": true
   },
   "outputs": [],
   "source": [
    "y_data = []\n",
    "int_y_data = []\n",
    "for i in range(len(random_data)):\n",
    "    y_data.append(random_data[i][\"overall\"])\n",
    "y_data=np.array(y_data)"
   ]
  },
  {
   "cell_type": "code",
   "execution_count": 10,
   "metadata": {
    "collapsed": false,
    "deletable": true,
    "editable": true
   },
   "outputs": [
    {
     "name": "stdout",
     "output_type": "stream",
     "text": [
      "error:  max_df :  0.3 min_df :  0.001\n",
      "error:  max_df :  0.3 min_df :  0.002\n",
      "error:  max_df :  0.3 min_df :  0.003\n",
      "error:  max_df :  0.3 min_df :  0.004\n",
      "error:  max_df :  0.3 min_df :  0.005\n",
      "error:  max_df :  0.3 min_df :  0.006\n",
      "error:  max_df :  0.3 min_df :  0.007\n",
      "error:  max_df :  0.3 min_df :  0.008\n",
      "error:  max_df :  0.3 min_df :  0.009000000000000001\n",
      "error:  max_df :  0.3 min_df :  0.010000000000000002\n",
      "error:  max_df :  0.3 min_df :  0.011000000000000003\n",
      "error:  max_df :  0.3 min_df :  0.012000000000000004\n",
      "error:  max_df :  0.3 min_df :  0.013000000000000005\n",
      "error:  max_df :  0.3 min_df :  0.014000000000000005\n",
      "error:  max_df :  0.3 min_df :  0.015000000000000006\n",
      "error:  max_df :  0.3 min_df :  0.016000000000000007\n",
      "error:  max_df :  0.3 min_df :  0.017000000000000008\n",
      "error:  max_df :  0.3 min_df :  0.01800000000000001\n",
      "error:  max_df :  0.3 min_df :  0.01900000000000001\n",
      "error:  max_df :  0.3 min_df :  0.02000000000000001\n",
      "error:  max_df :  0.3 min_df :  0.02100000000000001\n",
      "error:  max_df :  0.3 min_df :  0.022000000000000013\n",
      "error:  max_df :  0.3 min_df :  0.023000000000000013\n",
      "error:  max_df :  0.3 min_df :  0.024000000000000014\n",
      "error:  max_df :  0.3 min_df :  0.025000000000000015\n",
      "error:  max_df :  0.3 min_df :  0.026000000000000016\n",
      "error:  max_df :  0.3 min_df :  0.027000000000000017\n",
      "error:  max_df :  0.3 min_df :  0.028000000000000018\n",
      "error:  max_df :  0.3 min_df :  0.02900000000000002\n",
      "error:  max_df :  0.3 min_df :  0.03000000000000002\n",
      "error:  max_df :  0.3 min_df :  0.03100000000000002\n",
      "error:  max_df :  0.3 min_df :  0.03200000000000002\n",
      "error:  max_df :  0.3 min_df :  0.03300000000000002\n",
      "error:  max_df :  0.3 min_df :  0.03400000000000002\n",
      "error:  max_df :  0.3 min_df :  0.035000000000000024\n",
      "error:  max_df :  0.3 min_df :  0.036000000000000025\n",
      "error:  max_df :  0.3 min_df :  0.037000000000000026\n",
      "error:  max_df :  0.3 min_df :  0.03800000000000003\n",
      "error:  max_df :  0.3 min_df :  0.03900000000000003\n",
      "error:  max_df :  0.3 min_df :  0.04000000000000003\n",
      "error:  max_df :  0.3 min_df :  0.04100000000000003\n",
      "error:  max_df :  0.3 min_df :  0.04200000000000003\n",
      "error:  max_df :  0.3 min_df :  0.04300000000000003\n",
      "error:  max_df :  0.3 min_df :  0.04400000000000003\n",
      "error:  max_df :  0.3 min_df :  0.04500000000000003\n",
      "error:  max_df :  0.3 min_df :  0.046000000000000034\n",
      "error:  max_df :  0.3 min_df :  0.047000000000000035\n",
      "error:  max_df :  0.3 min_df :  0.048000000000000036\n",
      "error:  max_df :  0.3 min_df :  0.04900000000000004\n",
      "error:  max_df :  0.3 min_df :  0.05000000000000004\n",
      "error:  max_df :  0.3 min_df :  0.05100000000000004\n",
      "error:  max_df :  0.3 min_df :  0.05200000000000004\n",
      "error:  max_df :  0.3 min_df :  0.05300000000000004\n",
      "error:  max_df :  0.3 min_df :  0.05400000000000004\n",
      "error:  max_df :  0.3 min_df :  0.05500000000000004\n",
      "error:  max_df :  0.3 min_df :  0.05600000000000004\n",
      "error:  max_df :  0.3 min_df :  0.057000000000000044\n",
      "error:  max_df :  0.3 min_df :  0.058000000000000045\n",
      "error:  max_df :  0.3 min_df :  0.059000000000000045\n",
      "error:  max_df :  0.3 min_df :  0.060000000000000046\n",
      "error:  max_df :  0.3 min_df :  0.06100000000000005\n",
      "error:  max_df :  0.3 min_df :  0.06200000000000005\n",
      "error:  max_df :  0.3 min_df :  0.06300000000000004\n",
      "error:  max_df :  0.3 min_df :  0.06400000000000004\n",
      "error:  max_df :  0.3 min_df :  0.06500000000000004\n",
      "error:  max_df :  0.3 min_df :  0.06600000000000004\n",
      "error:  max_df :  0.3 min_df :  0.06700000000000005\n",
      "error:  max_df :  0.3 min_df :  0.06800000000000005\n",
      "error:  max_df :  0.3 min_df :  0.06900000000000005\n",
      "error:  max_df :  0.3 min_df :  0.07000000000000005\n",
      "error:  max_df :  0.3 min_df :  0.07100000000000005\n",
      "error:  max_df :  0.3 min_df :  0.07200000000000005\n",
      "error:  max_df :  0.3 min_df :  0.07300000000000005\n",
      "error:  max_df :  0.3 min_df :  0.07400000000000005\n",
      "error:  max_df :  0.3 min_df :  0.07500000000000005\n",
      "error:  max_df :  0.3 min_df :  0.07600000000000005\n",
      "error:  max_df :  0.3 min_df :  0.07700000000000005\n",
      "error:  max_df :  0.3 min_df :  0.07800000000000006\n",
      "error:  max_df :  0.3 min_df :  0.07900000000000006\n",
      "error:  max_df :  0.3 min_df :  0.08000000000000006\n",
      "error:  max_df :  0.3 min_df :  0.08100000000000006\n",
      "error:  max_df :  0.3 min_df :  0.08200000000000006\n",
      "error:  max_df :  0.3 min_df :  0.08300000000000006\n",
      "error:  max_df :  0.3 min_df :  0.08400000000000006\n",
      "error:  max_df :  0.3 min_df :  0.08500000000000006\n",
      "error:  max_df :  0.3 min_df :  0.08600000000000006\n",
      "error:  max_df :  0.3 min_df :  0.08700000000000006\n",
      "error:  max_df :  0.3 min_df :  0.08800000000000006\n",
      "error:  max_df :  0.3 min_df :  0.08900000000000007\n",
      "error:  max_df :  0.3 min_df :  0.09000000000000007\n",
      "error:  max_df :  0.3 min_df :  0.09100000000000007\n",
      "error:  max_df :  0.3 min_df :  0.09200000000000007\n",
      "error:  max_df :  0.3 min_df :  0.09300000000000007\n",
      "error:  max_df :  0.3 min_df :  0.09400000000000007\n",
      "error:  max_df :  0.3 min_df :  0.09500000000000007\n",
      "error:  max_df :  0.3 min_df :  0.09600000000000007\n",
      "error:  max_df :  0.3 min_df :  0.09700000000000007\n",
      "error:  max_df :  0.3 min_df :  0.09800000000000007\n",
      "error:  max_df :  0.3 min_df :  0.09900000000000007\n",
      "error:  max_df :  0.3 min_df :  0.10000000000000007\n"
     ]
    },
    {
     "name": "stderr",
     "output_type": "stream",
     "text": [
      "C:\\Users\\samsung\\Miniconda3\\envs\\workspace\\lib\\site-packages\\sklearn\\cross_validation.py:44: DeprecationWarning: This module was deprecated in version 0.18 in favor of the model_selection module into which all the refactored classes and functions are moved. Also note that the interface of the new CV iterators are different from that of this module. This module will be removed in 0.20.\n",
      "  \"This module will be removed in 0.20.\", DeprecationWarning)\n"
     ]
    }
   ],
   "source": [
    "from sklearn.feature_extraction.text import TfidfVectorizer\n",
    "from sklearn import cross_validation\n",
    "from sklearn import datasets\n",
    "from sklearn.multiclass import OneVsRestClassifier\n",
    "from sklearn.svm import LinearSVC\n",
    "from sklearn.metrics import accuracy_score\n",
    "from sklearn import linear_model\n",
    "\n",
    "a = 0.3\n",
    "b = 0.001\n",
    "\n",
    "rep = 100\n",
    "for i in range(rep):\n",
    "    try:\n",
    "        vectorizer = TfidfVectorizer(analyzer='word', sublinear_tf=True, max_df = a, min_df= b ,lowercase=True, stop_words = 'english')\n",
    "        D = vectorizer.fit_transform(random_review_data)\n",
    "\n",
    "        from sklearn import cross_validation\n",
    "\n",
    "        skf = cross_validation.StratifiedKFold(y_data, n_folds=10,random_state=500)\n",
    "\n",
    "        for train_index, test_index in skf:\n",
    "            X_train, X_test = D[train_index], D[test_index]\n",
    "            y_train, y_test = y_data[train_index], y_data[test_index]\n",
    "\n",
    "\n",
    "        result = OneVsRestClassifier(LinearSVC(random_state=0)).fit(X_train, y_train)\n",
    "        result.predict(X_test)\n",
    "        print(\"SVM :\",\"max_df : \",a,\"min_df : \",b ,accuracy_score(result.predict(X_test),y_test))\n",
    "\n",
    "        logreg = linear_model.LogisticRegression()\n",
    "        logreg.fit(X_train, y_train)\n",
    "        logreg.predict(X_test) == y_test\n",
    "        print(\"log :\",\"max_df : \",a,\"min_df : \",b ,accuracy_score(logreg.predict(X_test), y_test))\n",
    "        \n",
    "    except:\n",
    "        print(\"error: \",\"max_df : \",a,\"min_df : \",b)\n",
    "        \n",
    "        b += 0.001"
   ]
  },
  {
   "cell_type": "code",
   "execution_count": null,
   "metadata": {
    "collapsed": true,
    "deletable": true,
    "editable": true
   },
   "outputs": [],
   "source": []
  }
 ],
 "metadata": {
  "kernelspec": {
   "display_name": "Python 3",
   "language": "python",
   "name": "python3"
  }
 },
 "nbformat": 4,
 "nbformat_minor": 2
}
