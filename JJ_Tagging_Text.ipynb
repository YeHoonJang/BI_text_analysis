{
 "cells": [
  {
   "cell_type": "code",
   "execution_count": 248,
   "metadata": {
    "collapsed": true,
    "deletable": true,
    "editable": true
   },
   "outputs": [],
   "source": [
    "import json\n",
    "import numpy as np\n",
    "from sklearn.preprocessing import MultiLabelBinarizer\n",
    "import nltk"
   ]
  },
  {
   "cell_type": "code",
   "execution_count": 249,
   "metadata": {
    "collapsed": false,
    "deletable": true,
    "editable": true
   },
   "outputs": [],
   "source": [
    "with open(\"reviews_Books_5.json\",\"r\") as data_file:\n",
    "    raw_data=data_file.readlines()"
   ]
  },
  {
   "cell_type": "code",
   "execution_count": 250,
   "metadata": {
    "collapsed": false,
    "deletable": true,
    "editable": true
   },
   "outputs": [
    {
     "name": "stdout",
     "output_type": "stream",
     "text": [
      "{\"reviewerID\": \"AAXUNK0W2DZG5\", \"asin\": \"0060520841\", \"reviewerName\": \"Amazon Customer \\\"leneker\\\"\", \"helpful\": [5, 10], \"reviewText\": \"1996 Bernard Goldberg wrote an editorial for the Wall Street Journal that said there was an obvious bias on the part of network new shows  for the liberal point of view.  he then illustrated this with an example that he dissected in-depth.  The reaction to this observation was the ruination of her career, and the beginning of his status as a pariah among most newsmen.  This book is used to add more ammo to the controversy.That the journalists who so eagerly pry into other peoples lives and business should be reluctant to be examined is hardly surprising.  Almost no one really wants to have his life or business dissected by Mike Wallace not even Dan Rather.  Some facts in this book are really potent such as the survey results which show how the average journalist and the average American are often vastly at odds.  Other chapters highlight different stories that TV news has covered and the analysis that Goldberg has made to point out the liberal bias.  His main theme is that while there is no conspiracy of the left, the fact is that most reporters are liberal but fewer still will admit it.There is some sound reasoning behind this book.  Sadly in execution, it doesn't come off as well as it could.  Goldberg has one argument in all the years he worked closely with Dan Rather (according to him) and yet it seems like all they did was fight.  Why ?  because Goldberg replays that one argument about 5 or 6 times in the book.  Much of the material that is thought provoking the first time around is pretty stale after the third or fourth reading. He kindly reprints the editorial that started the whole furor, too bad this was at the end of the book because the entire first chapter is just a rehash of that argument.  Too often Goldberg is reduced sounding like the bitter vindictive perso 93184\n"
     ]
    }
   ],
   "source": [
    "json_list = []\n",
    "for i in range(len(raw_data)):\n",
    "    try:\n",
    "        json_data = json.loads(raw_data[i])\n",
    "        json_list.append(json_data)\n",
    "    except:\n",
    "        print(raw_data[i],i)"
   ]
  },
  {
   "cell_type": "code",
   "execution_count": 251,
   "metadata": {
    "collapsed": false,
    "deletable": true,
    "editable": true
   },
   "outputs": [
    {
     "data": {
      "text/plain": [
       "list"
      ]
     },
     "execution_count": 251,
     "metadata": {},
     "output_type": "execute_result"
    }
   ],
   "source": [
    "review_data = []\n",
    "\n",
    "for i in range(len(json_list)):\n",
    "    review_dict={}\n",
    "    review_dict[\"reviewText\"] = json_list[i][\"reviewText\"]\n",
    "    review_dict[\"overall\"] = json_list[i][\"overall\"]\n",
    "    review_data.append(review_dict)\n",
    "type(review_data)"
   ]
  },
  {
   "cell_type": "code",
   "execution_count": 252,
   "metadata": {
    "collapsed": false,
    "deletable": true,
    "editable": true
   },
   "outputs": [
    {
     "name": "stdout",
     "output_type": "stream",
     "text": [
      "My daughter, age 10, enjoys historical fiction, and when she brings a new book home I snag it.  To me a good story is one that is engaging and hard to put down, and makes me think in new ways.  This was one of the best.  I totally disagree with the first editorial review that said the characters weren't developed well and the storylines chopped off. Little Tracy and Ben were developed just enough to move the story along, and the tranformation of Mark was fascinating.  The storyline was very satisfying, and the point anyway was Mark's intriguing questions about who we are and how we make the choices we do and who we are separate from our parents.  Especially for the target age, middle-school, I thought it was an excellent opening to discussion about going along with the crowd and standing up for what is right.With that said, I wonder if middle schoolers aren't quite ready for the concepts.  The many kid reviews missed the point (Can you see the teacher getting on Amazon to grade the assignment?) and when I asked my daughter how she liked it, she said, \"Eh - I've read better.\"  I can't wait to talk to her when she's done, but she's not as into as as other historical fiction books she's read.\n"
     ]
    }
   ],
   "source": [
    "import random\n",
    "random_data = random.sample(review_data,len(review_data))\n",
    "random_data = random_data[:10] # 이것만 지우면 됨.\n",
    "print(random_data[1]['reviewText'])"
   ]
  },
  {
   "cell_type": "code",
   "execution_count": 253,
   "metadata": {
    "collapsed": true
   },
   "outputs": [],
   "source": [
    "reviewText = []\n",
    "for i in range(len(random_data)):\n",
    "    reviewText.append(random_data[i][\"reviewText\"])"
   ]
  },
  {
   "cell_type": "code",
   "execution_count": 254,
   "metadata": {
    "collapsed": false,
    "deletable": true,
    "editable": true
   },
   "outputs": [
    {
     "name": "stdout",
     "output_type": "stream",
     "text": [
      "[nltk_data] Downloading package stopwords to\n",
      "[nltk_data]     C:\\Users\\samsung\\AppData\\Roaming\\nltk_data...\n",
      "[nltk_data]   Package stopwords is already up-to-date!\n"
     ]
    },
    {
     "data": {
      "text/plain": [
       "True"
      ]
     },
     "execution_count": 254,
     "metadata": {},
     "output_type": "execute_result"
    }
   ],
   "source": [
    "nltk.download('stopwords')"
   ]
  },
  {
   "cell_type": "code",
   "execution_count": 255,
   "metadata": {
    "collapsed": false,
    "deletable": true,
    "editable": true
   },
   "outputs": [],
   "source": [
    "# Stopword\n",
    "from nltk.corpus import stopwords\n",
    "stop = set(stopwords.words('english'))\n",
    "\n",
    "stopword = []\n",
    "for i in range(len(reviewText)):\n",
    "    Lower_reviewText = [j for j in reviewText[i].lower().split() if j not in stop]\n",
    "    Join_Lower_reviewText = \" \".join(Lower_reviewText)\n",
    "    stopword.append(Join_Lower_reviewText)"
   ]
  },
  {
   "cell_type": "code",
   "execution_count": 256,
   "metadata": {
    "collapsed": false,
    "deletable": true,
    "editable": true
   },
   "outputs": [],
   "source": [
    "# Stemming\n",
    "\n",
    "stemming = []\n",
    "from nltk.stem.porter import PorterStemmer\n",
    "porter = PorterStemmer()\n",
    "\n",
    "def tokenizer_porter(text):\n",
    "    return [porter.stem(word) for word in text.split()]\n",
    "\n",
    "for i in range(len(stopword)):\n",
    "    Stemming = tokenizer_porter(stopword[i])\n",
    "    Join_Stemming = \" \".join(a)\n",
    "    stemming.append(Join_Stemming)"
   ]
  },
  {
   "cell_type": "code",
   "execution_count": 257,
   "metadata": {
    "collapsed": false,
    "deletable": true,
    "editable": true
   },
   "outputs": [],
   "source": [
    "# Tagging\n",
    "\n",
    "def pos_tagging(document):\n",
    "    result = nltk.pos_tag( nltk.word_tokenize(document))    \n",
    "    last_result = ['/'.join(t) for t in result]\n",
    "    return last_result\n",
    "\n",
    "tag = [pos_tagging(i) for i in stemming]"
   ]
  },
  {
   "cell_type": "code",
   "execution_count": 258,
   "metadata": {
    "collapsed": false
   },
   "outputs": [
    {
     "name": "stdout",
     "output_type": "stream",
     "text": [
      "['barbara/NN', 'kingsolver/NN', \"'/POS\", 'poisonwood/NN', 'bibl/NN', 'beauti/NN', 'craft/NN', 'work/NN', 'art/NN', './.', 'stori/VB', 'nathan/JJ', 'orleanna/JJ', 'price/NN', 'four/CD', 'daughter/NN', 'one/CD', 'haunt/NN', 'long/RB', 'turn/VB', 'last/JJ', 'page/NN', './.', 'nathan/JJ', 'self-right/JJ', 'baptist/NN', 'preacher/NN', ',/,', 'along/IN', 'beaten/JJ', 'wife/NN', ',/,', 'go/VB', 'sens/VBZ', 'church/NN', 'support/NN', 'attempt/NN', 'convert/NN', 'congo/NN', './.', 'mission/NN', 'doom/NN', 'start/NN', ',/,', 'radic/JJ', 'nathan/NN', 'becomes/NNS', ',/,', 'faster/JJR', 'famili/VBP', 'fall/DT', 'apart/RB', './.', 'rachel/NN', ',/,', 'oldest/JJS', 'daughter/NN', ',/,', 'repres/VBZ', 'pop/JJ', 'cultur/NN', 'late/JJ', '1950s/NNS', './.', 'attempt/VB', 'popular/JJ', 'fit/NN', 'unlik/NN', 'happen/VB', 'get/NN', 'twinset/VBN', '16th/CD', 'birthday/NN', './.', 'leah/JJ', 'repres/NNS', 'american/JJ', 'conscience/NN', './.', 'attempt/VB', 'right/JJ', 'wrong/JJ', 'see/VB', 'attempt/JJ', 'cross/NN', 'cultures/NNS', ',/,', 'spend/VBP', 'life/NN', 'africa/NN', './.', 'adah/NN', ',/,', 'born/VBN', 'hemiplegia/NN', ',/,', 'see/VBP', 'world/NN', 'anagrams/NN', './.', 'perspect/JJ', 'uniqu/JJ', 'one/CD', 'ever/RB', 'read/VB', 'novel/NN', './.', 'finally/RB', ',/,', 'ruth/NN', 'may/MD', ',/,', 'babi/VB', 'family/NN', ',/,', 'one/CD', 'suffer/NN', 'sin/NN', 'father.th/NN', 'characters/NNS', ',/,', 'except/IN', 'nathan/JJ', 'price/NN', ',/,', 'develop/VB', 'decades/NNS', ',/,', 'see/VBP', 'nathan/JJ', \"'/POS\", 'religios/NNS', 'individu/VBP', 'experi/JJ', 'congo/NN', 'affect/JJ', 'adult/NN', 'live/JJ', 'relationships/NNS', './.', 'novel/JJ', 'transcend/NN', 'histor/NN', 'fiction/NN', 'genr/NN', 'incorpor/JJ', 'theme/NN', 'famili/NN', 'conflict/NN', ',/,', 'self-right/JJ', 'capac/NN', 'destroy/NN', ',/,', 'racism/NN', ',/,', 'among/IN', 'others/NNS', './.', 'histor/NN', 'geopolit/NN', 'set/VBN', 'ad/NN', 'bonus/NN', ',/,', 'point/NN', 'view.thi/NN', 'novel/JJ', 'haunt/NN', 'you/PRP', './.', 'language/NN', ',/,', 'characters/NNS', ',/,', 'stori/VBP', 'one/CD', 'ages/NNS', './.']\n"
     ]
    }
   ],
   "source": [
    "print(tag[0])"
   ]
  },
  {
   "cell_type": "code",
   "execution_count": 260,
   "metadata": {
    "collapsed": false
   },
   "outputs": [
    {
     "name": "stdout",
     "output_type": "stream",
     "text": [
      "nathan orleanna last nathan self-right beaten radic pop late popular leah american right wrong attempt perspect uniqu nathan nathan experi affect live novel incorpor self-right novel\n"
     ]
    }
   ],
   "source": [
    "# JJ분류\n",
    "tagging_JJ = []\n",
    "for i in range(len(tag)):\n",
    "    tagging = []\n",
    "    for j in tag[i]:\n",
    "        if j.split(\"/\")[1] == \"JJ\":\n",
    "            tagging.append(j.split(\"/\")[0])\n",
    "    join_each_tag = \" \".join(tagging)\n",
    "    tagging_JJ.append(join_each_tag)"
   ]
  }
 ],
 "metadata": {
  "kernelspec": {
   "display_name": "Python 3",
   "language": "python",
   "name": "python3"
  },
  "language_info": {
   "codemirror_mode": {
    "name": "ipython",
    "version": 3
   },
   "file_extension": ".py",
   "mimetype": "text/x-python",
   "name": "python",
   "nbconvert_exporter": "python",
   "pygments_lexer": "ipython3",
   "version": "3.5.3"
  }
 },
 "nbformat": 4,
 "nbformat_minor": 2
}
