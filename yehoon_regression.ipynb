{
 "cells": [
  {
   "cell_type": "code",
   "execution_count": 1,
   "metadata": {
    "collapsed": true
   },
   "outputs": [],
   "source": [
    "import json\n",
    "import pandas as pd\n",
    "import nltk\n",
    "import numpy as np\n",
    "import matplotlib.pyplot as plt"
   ]
  },
  {
   "cell_type": "code",
   "execution_count": 2,
   "metadata": {
    "collapsed": true
   },
   "outputs": [],
   "source": [
    "with open(\"Books_5.json\",\"r\") as data_file:\n",
    "    raw_data=data_file.readlines()"
   ]
  },
  {
   "cell_type": "code",
   "execution_count": 3,
   "metadata": {},
   "outputs": [],
   "source": [
    "json_list = []\n",
    "for i in range(len(raw_data)):\n",
    "    try:\n",
    "        json_data = json.loads(raw_data[i])\n",
    "        json_list.append(json_data)\n",
    "    except:\n",
    "        print(raw_data[i],i)"
   ]
  },
  {
   "cell_type": "code",
   "execution_count": 4,
   "metadata": {
    "collapsed": true
   },
   "outputs": [],
   "source": [
    "review_data = []\n",
    "\n",
    "for i in range(len(json_list)):\n",
    "    review_dict={}\n",
    "    review_dict[\"reviewText\"] = json_list[i][\"reviewText\"]\n",
    "    review_dict[\"overall\"] = json_list[i][\"overall\"]\n",
    "    review_data.append(review_dict)"
   ]
  },
  {
   "cell_type": "code",
   "execution_count": 5,
   "metadata": {
    "collapsed": true
   },
   "outputs": [],
   "source": [
    "import random\n",
    "random_data = random.sample(review_data,len(review_data))"
   ]
  },
  {
   "cell_type": "code",
   "execution_count": 7,
   "metadata": {},
   "outputs": [
    {
     "data": {
      "text/plain": [
       "[{'overall': 4.0,\n",
       "  'reviewText': \"I reviewed this book for Young Adult and Teen Readers. Hearing the name, I was excited. I've heard of Ella James but had not yet read any of her work, and given the fact that I haven't read any YA lately, I was ready to give it a go.The book did start out a little choppy. We open with the heroine and her friends at a sleepover waking up and talking about going to play paintball and who was going to shoot who in the nuts for being a cheater. Funny, but for someone like me who doesn't do well with names, it was a little hard to follow. Thankfully, that little hiccup was short lived. Within a few pages I was hooked.The heroine, Milo, has continued a deer tagging project for her recently deceased father and accidentally shoots a boy with a tranq gun. But she swears he wasn't there, then there was a flash of light, a power surge, and he was there. In a tuxedo. I have to admit, that part cracked me up.The boy, whom she dubs Nick, has no memory whatsoever and Milo decides she needs to help him remember who he is. When the DoD shows up at her door and weird things start happening, Milo and Nick end up running for their lives.This one was a page turner! The action is super fast, and the dialogue easy to read. The characters were deep without being too angsty or self-absorbed as can be the case for some YA PNR. This one though, I thought was absolutely a great read and I'm eager to read book 2 since I'm not standing on the edge of a cliff. Or is it hanging?\"},\n",
       " {'overall': 4.0,\n",
       "  'reviewText': 'I enjoyed this book, as long as I kept in mind that the book was written for young adults.  The characters were believable and it was easy to identify with their pain.'},\n",
       " {'overall': 5.0,\n",
       "  'reviewText': \"I'm gonna be selfish for a minute but I really really really hope that there is another book for them! what a beautiful ending for such an amazing strong couple! excellent story!\"},\n",
       " {'overall': 5.0,\n",
       "  'reviewText': \"Not what I was expecting, but in in good way!  Can't wait to read the rest of them! A must read!\"},\n",
       " {'overall': 3.0,\n",
       "  'reviewText': \"I was very excited to start reading this book and although I did like it, I thought that a lot of the words to describe body parts was kind of high-schoolish.  Didn't care for the cliff hanging ending.\"},\n",
       " {'overall': 5.0,\n",
       "  'reviewText': \"Death is but a Dream is the first book under the mythology genre I have read, which even I am surprised at as I was fascinated by Greek Gods and their lore when I was younger. Erin Hayes is able to tell her story carefully, informing her reader fully of the Gods and their individual roles, without patronizing anybody who has prior knowledge of the Greek myths.One of the reasons I enjoyed Death is but a Dream so much is the way in which Erin Hayes is able to animate characters who are only known in stories 1000s of years old. I particularly liked her portrayal of Hades,&#34; Hades was middle-aged, dressed in a fine, $5,000 Giorgio Armani suit. He had a stylish haircut for someone of his age, peppering from a dark brown to a light grey at his temples. He looked like he was the CEO of a big company, which I was expecting. I just wasn't expecting him to be smiling at me, or to look so . . . happy.&#34;Callie is in the Underworld after being run over by a bus, saving a young girl. Though technically on earth she is in a coma Hades needs her detective skills to find out who is trying to assassinate his son, Plutus, the God of Wealth.Erin Hayes builds a layered plot and the perpetrator is difficult to determine, with Callie even questioning if Plutus has motive to arrange his own murder.With Aphrodite, goddess of love appearing in the story it is only fair to assume some romance amongst the mystery. However, though Plutus is the God of Wealth and the son of one of the most powerful of the Greek Gods, he is lacking in confidence, and has his own fixations.Callie is obsessed with her work and whilst in the Underworld allows Plutus' case to overwhelm her, having little time for other activities. The time Callie and Plutus spend together can often be awkward or even humorous, like showing a Greek God how to eat his first McDonalds!Death is but a Dream was a new genre of story-telling for me but I loved every moment of this book. Erin Hayes' ideas were fresh and I hope she continues Callie and Plutus' story in a sequel.A must read!I received this as a review copy, but this has had no influence on my opinion.\"},\n",
       " {'overall': 2.0,\n",
       "  'reviewText': \"I don't know if you are familiar with FANFIC on the internet but that what this book reminded me of.  I love the series and thought I would like the books...not so much.\"},\n",
       " {'overall': 1.0,\n",
       "  'reviewText': \"I think the author gets lost in his own thoughts and trys to make storys of something that's not there.\"},\n",
       " {'overall': 5.0,\n",
       "  'reviewText': 'I could relate to many characters and incidents in this book...it was hard to put down once I started reading it...I am anxious for the next book in the series to become available.'},\n",
       " {'overall': 5.0,\n",
       "  'reviewText': 'As I love western era romances, this one was wonderful.  An easy read and ended the way we always hope....happily!'}]"
      ]
     },
     "execution_count": 7,
     "metadata": {},
     "output_type": "execute_result"
    }
   ],
   "source": [
    "random_data[:10]"
   ]
  },
  {
   "cell_type": "code",
   "execution_count": 86,
   "metadata": {
    "scrolled": true
   },
   "outputs": [
    {
     "data": {
      "text/plain": [
       "93184"
      ]
     },
     "execution_count": 86,
     "metadata": {},
     "output_type": "execute_result"
    }
   ],
   "source": [
    "len(random_data)"
   ]
  },
  {
   "cell_type": "code",
   "execution_count": 87,
   "metadata": {},
   "outputs": [
    {
     "data": {
      "text/plain": [
       "{'asin': '0028633504',\n",
       " 'overall': 5.0,\n",
       " 'reviewText': \"This cookbook is wonderfull!!!!  I am, by no means, a real good person in the kitchen.  I've been on weight watchers for a while now and got tired of cooking seperate for me and my family.  This book allows me to stay on my daily points and know that my family is eating healthy, as well.  My husband and kids really love the recipes.The recipes are quick and easy.  A dummy like me can even make a successful meal.I highly recommend this book.  This book is a MUST HAVE for your kitchen!!!\"}"
      ]
     },
     "execution_count": 87,
     "metadata": {},
     "output_type": "execute_result"
    }
   ],
   "source": [
    "random_data[0]"
   ]
  },
  {
   "cell_type": "code",
   "execution_count": 88,
   "metadata": {
    "collapsed": true
   },
   "outputs": [],
   "source": [
    "from nltk.corpus import stopwords"
   ]
  },
  {
   "cell_type": "code",
   "execution_count": 118,
   "metadata": {},
   "outputs": [
    {
     "name": "stdout",
     "output_type": "stream",
     "text": [
      "This cookbook is wonderfull!!!!  I am, by no means, a real good person in the kitchen.  I've been on weight watchers for a while now and got tired of cooking seperate for me and my family.  This book allows me to stay on my daily points and know that my family is eating healthy, as well.  My husband and kids really love the recipes.The recipes are quick and easy.  A dummy like me can even make a successful meal.I highly recommend this book.  This book is a MUST HAVE for your kitchen!!!\n"
     ]
    },
    {
     "name": "stderr",
     "output_type": "stream",
     "text": [
      "c:\\users\\jangy\\miniconda3\\envs\\bi_project\\lib\\site-packages\\bs4\\__init__.py:181: UserWarning: No parser was explicitly specified, so I'm using the best available HTML parser for this system (\"html5lib\"). This usually isn't a problem, but if you run this code on another system, or in a different virtual environment, it may use a different parser and behave differently.\n",
      "\n",
      "The code that caused this warning is on line 170 of the file c:\\users\\jangy\\miniconda3\\envs\\bi_project\\lib\\runpy.py. To get rid of this warning, change code that looks like this:\n",
      "\n",
      " BeautifulSoup(YOUR_MARKUP})\n",
      "\n",
      "to this:\n",
      "\n",
      " BeautifulSoup(YOUR_MARKUP, \"html5lib\")\n",
      "\n",
      "  markup_type=markup_type))\n"
     ]
    }
   ],
   "source": [
    "# Import BeautifulSoup into your workspace\n",
    "from bs4 import BeautifulSoup             \n",
    "\n",
    "example1 = BeautifulSoup(random_data[0][\"reviewText\"])  \n",
    "\n",
    "print(random_data[0][\"reviewText\"])"
   ]
  },
  {
   "cell_type": "code",
   "execution_count": 119,
   "metadata": {},
   "outputs": [
    {
     "name": "stdout",
     "output_type": "stream",
     "text": [
      "This cookbook is wonderfull      I am  by no means  a real good person in the kitchen   I ve been on weight watchers for a while now and got tired of cooking seperate for me and my family   This book allows me to stay on my daily points and know that my family is eating healthy  as well   My husband and kids really love the recipes The recipes are quick and easy   A dummy like me can even make a successful meal I highly recommend this book   This book is a MUST HAVE for your kitchen   \n"
     ]
    }
   ],
   "source": [
    "import re\n",
    "# Use regular expressions to do a find-and-replace\n",
    "letters_only = re.sub(\"[^a-zA-Z]\",           # The pattern to search for\n",
    "                      \" \",                   # The pattern to replace it with\n",
    "                      example1.get_text() )  # The text to search\n",
    "print(letters_only)"
   ]
  },
  {
   "cell_type": "code",
   "execution_count": 121,
   "metadata": {
    "collapsed": true
   },
   "outputs": [],
   "source": [
    "def review_to_words(raw_review):\n",
    "    # Function to convert a raw review to a string of words\n",
    "    # The input is a single string (a raw movie review), and \n",
    "    # the output is a single string (a preprocessed movie review)\n",
    "    \n",
    "   \n",
    "    cleaned_text_list=[]\n",
    "    for i in range(len(raw_review)):\n",
    "        \n",
    "        review_text = BeautifulSoup(raw_review[i][\"reviewText\"]).get_text()\n",
    "        letters_only = re.sub(\"[^a-zA-Z]\", \" \", review_text)\n",
    "        words = letters_only.lower().split()\n",
    "        cleaned_text = \" \".join(words)\n",
    "        cleaned_text_list.append(cleaned_text)\n",
    "\n",
    "    return cleaned_text_list\n",
    "\n",
    "       "
   ]
  },
  {
   "cell_type": "code",
   "execution_count": 122,
   "metadata": {
    "scrolled": true
   },
   "outputs": [
    {
     "name": "stderr",
     "output_type": "stream",
     "text": [
      "c:\\users\\jangy\\miniconda3\\envs\\bi_project\\lib\\site-packages\\bs4\\__init__.py:181: UserWarning: No parser was explicitly specified, so I'm using the best available HTML parser for this system (\"html5lib\"). This usually isn't a problem, but if you run this code on another system, or in a different virtual environment, it may use a different parser and behave differently.\n",
      "\n",
      "The code that caused this warning is on line 170 of the file c:\\users\\jangy\\miniconda3\\envs\\bi_project\\lib\\runpy.py. To get rid of this warning, change code that looks like this:\n",
      "\n",
      " BeautifulSoup(YOUR_MARKUP})\n",
      "\n",
      "to this:\n",
      "\n",
      " BeautifulSoup(YOUR_MARKUP, \"html5lib\")\n",
      "\n",
      "  markup_type=markup_type))\n"
     ]
    }
   ],
   "source": [
    "random_review_data=review_to_words(random_data)"
   ]
  },
  {
   "cell_type": "code",
   "execution_count": 123,
   "metadata": {
    "collapsed": true
   },
   "outputs": [],
   "source": [
    "# print(random_review_data)"
   ]
  },
  {
   "cell_type": "code",
   "execution_count": 124,
   "metadata": {
    "collapsed": true
   },
   "outputs": [],
   "source": [
    "from sklearn.feature_extraction.text import TfidfVectorizer\n",
    "vectorizer = TfidfVectorizer(analyzer='word', sublinear_tf=True, max_df = 0.5, lowercase=True, stop_words = 'english')\n",
    "D = vectorizer.fit_transform(random_review_data)"
   ]
  },
  {
   "cell_type": "code",
   "execution_count": 125,
   "metadata": {},
   "outputs": [
    {
     "data": {
      "text/plain": [
       "(93184, 112387)"
      ]
     },
     "execution_count": 125,
     "metadata": {},
     "output_type": "execute_result"
    }
   ],
   "source": [
    "D.shape"
   ]
  },
  {
   "cell_type": "code",
   "execution_count": 126,
   "metadata": {
    "collapsed": true
   },
   "outputs": [],
   "source": [
    "y_data = []\n",
    "int_y_data = []\n",
    "for i in range(len(random_data)):\n",
    "    y_data.append(random_data[i][\"overall\"])\n",
    "y_data=np.array(y_data)"
   ]
  },
  {
   "cell_type": "code",
   "execution_count": 127,
   "metadata": {
    "collapsed": true
   },
   "outputs": [],
   "source": [
    "from sklearn.model_selection import train_test_split\n",
    "x_train, x_test, y_train, y_test = train_test_split(D, y_data, test_size=0.2, random_state=22)"
   ]
  },
  {
   "cell_type": "markdown",
   "metadata": {},
   "source": [
    "<h2>Logistioc Regression</h2>"
   ]
  },
  {
   "cell_type": "code",
   "execution_count": 98,
   "metadata": {},
   "outputs": [
    {
     "data": {
      "text/plain": [
       "array([False,  True, False, ...,  True,  True,  True], dtype=bool)"
      ]
     },
     "execution_count": 98,
     "metadata": {},
     "output_type": "execute_result"
    }
   ],
   "source": [
    "from sklearn import linear_model\n",
    "logreg = linear_model.LogisticRegression()\n",
    "\n",
    "logreg.fit(x_train, y_train)\n",
    "logreg.predict(x_test) == y_test"
   ]
  },
  {
   "cell_type": "code",
   "execution_count": 99,
   "metadata": {},
   "outputs": [
    {
     "data": {
      "text/plain": [
       "0.62424209905027628"
      ]
     },
     "execution_count": 99,
     "metadata": {},
     "output_type": "execute_result"
    }
   ],
   "source": [
    "from sklearn.metrics import accuracy_score\n",
    "accuracy_score(logreg.predict(x_test), y_test)"
   ]
  },
  {
   "cell_type": "markdown",
   "metadata": {},
   "source": [
    "<h2>Linear Support Vector Classification</h2>"
   ]
  },
  {
   "cell_type": "code",
   "execution_count": 128,
   "metadata": {},
   "outputs": [
    {
     "name": "stdout",
     "output_type": "stream",
     "text": [
      "0:00:04.275085\n"
     ]
    }
   ],
   "source": [
    "from sklearn.svm import LinearSVC\n",
    "from datetime import datetime\n",
    " \n",
    "# initialise the SVM classifier\n",
    "classifier = LinearSVC()\n",
    " \n",
    "# train the classifier\n",
    "t1 = datetime.now()\n",
    "classifier.fit(x_train, y_train)\n",
    "print(datetime.now() - t1)"
   ]
  },
  {
   "cell_type": "code",
   "execution_count": 129,
   "metadata": {},
   "outputs": [
    {
     "name": "stdout",
     "output_type": "stream",
     "text": [
      "[5.0, 5.0, 5.0, 5.0, 5.0, 5.0, 5.0, 5.0, 3.0, 3.0]\n",
      "[ 4.  5.  4.  5.  5.  5.  3.  5.  4.  3.]\n"
     ]
    }
   ],
   "source": [
    "preds = classifier.predict(x_test)\n",
    "print(list(preds[:10]))\n",
    "print(y_test[:10])"
   ]
  },
  {
   "cell_type": "code",
   "execution_count": 130,
   "metadata": {},
   "outputs": [
    {
     "name": "stdout",
     "output_type": "stream",
     "text": [
      "0.603476954445\n"
     ]
    }
   ],
   "source": [
    "from sklearn.metrics import accuracy_score\n",
    "print(accuracy_score(y_test, preds))"
   ]
  },
  {
   "cell_type": "code",
   "execution_count": 131,
   "metadata": {},
   "outputs": [
    {
     "name": "stdout",
     "output_type": "stream",
     "text": [
      "             precision    recall  f1-score   support\n",
      "\n",
      "        1.0       0.49      0.33      0.39       855\n",
      "        2.0       0.33      0.21      0.26       998\n",
      "        3.0       0.35      0.24      0.28      2031\n",
      "        4.0       0.40      0.31      0.35      4400\n",
      "        5.0       0.70      0.86      0.77     10353\n",
      "\n",
      "avg / total       0.56      0.60      0.57     18637\n",
      "\n"
     ]
    }
   ],
   "source": [
    "from sklearn.metrics import classification_report\n",
    "print(classification_report(y_test, preds))"
   ]
  },
  {
   "cell_type": "code",
   "execution_count": null,
   "metadata": {
    "collapsed": true
   },
   "outputs": [],
   "source": []
  }
 ],
 "metadata": {
  "kernelspec": {
   "display_name": "Python 3",
   "language": "python",
   "name": "python3"
  },
  "language_info": {
   "codemirror_mode": {
    "name": "ipython",
    "version": 3
   },
   "file_extension": ".py",
   "mimetype": "text/x-python",
   "name": "python",
   "nbconvert_exporter": "python",
   "pygments_lexer": "ipython3",
   "version": "3.5.0"
  }
 },
 "nbformat": 4,
 "nbformat_minor": 2
}
