{
 "cells": [
  {
   "cell_type": "markdown",
   "metadata": {},
   "source": [
    "[Business Intelligence]\n",
    "\n",
    "Amazon text review를 통해 평점 예측하기"
   ]
  },
  {
   "cell_type": "markdown",
   "metadata": {},
   "source": [
    "1. Data 전처리\n",
    "\n",
    "    - 데이터에서 Review와 Overall text를 추출. (Asin보류)\n",
    "    \n",
    "    - 숫자, 관사, 고유명사, 특수문자 제거 \n",
    "    \n",
    "    - 문장단위로 끊고, 문장내에서 형용사가 있는 문장 추출.\n",
    "    \n",
    "    - 추출화 된 문장에서 부사제거"
   ]
  },
  {
   "cell_type": "markdown",
   "metadata": {},
   "source": [
    "2. Neural net방법으로 학습\n",
    "\n",
    "    - 전처리 한 데이터를 Input data에 넣고 overall을 output data로 설정하여  neural net방법으로 학습"
   ]
  },
  {
   "cell_type": "markdown",
   "metadata": {},
   "source": [
    "참고자료\n",
    "\n",
    "- Introduction to ML with Python, Guido, Sarah , 2015"
   ]
  }
 ],
 "metadata": {
  "kernelspec": {
   "display_name": "Python 3",
   "language": "python",
   "name": "python3"
  },
  "language_info": {
   "codemirror_mode": {
    "name": "ipython",
    "version": 3
   },
   "file_extension": ".py",
   "mimetype": "text/x-python",
   "name": "python",
   "nbconvert_exporter": "python",
   "pygments_lexer": "ipython3",
   "version": "3.5.3"
  }
 },
 "nbformat": 4,
 "nbformat_minor": 2
}
