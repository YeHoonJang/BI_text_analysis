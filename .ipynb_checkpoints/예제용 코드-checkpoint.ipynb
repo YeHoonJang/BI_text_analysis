{
 "cells": [
  {
   "cell_type": "code",
   "execution_count": 1,
   "metadata": {
    "collapsed": false,
    "deletable": true,
    "editable": true
   },
   "outputs": [],
   "source": [
    "text_1 = \"\"\"this is one sweet short read, and even so i felt that Jess was flashed enough to hold the story. this is a stroy if a magic soup and love, and no, you don't get to the HEA. Enough to keep u satisfied. A part wish to know a bit more of what happened with Jess, but another part of me is content at the story and the ending. what was just REfreshing. All in al a great short read, perfect for a busy/bad day so you could cheer up and realx.\"\"\"\n",
    "text_2 = \"\"\"This most expensive film deserves be given 2 thumbs. The film \"Avatar the Movie\" by director James Cameron is inviting a lot of admiration from the audience. Avatar is a semi-real film, meaning that part using 3D animation. Although 3D animation in some scenes look cheap aka obviously animated, but I think it is not too disturbing film Avatar as a whole. With Avatar the Movie, James Cameron re-considered the king of the world's movies. After previously also rocked the audience emotionally with \"Titanic\" movie.Is it a great movie? I think yes. It’s very amazing film I have ever seen. There are no major plot holes I could see. The technology is brilliant and used well, and the setting itself is gorgeous.\"\"\"\n",
    "text_3 = \"\"\"After watching this movie, it is funny to realize how every little thing can make us either happy or worried. Chasing is really the best part, right?\"\"\"\n",
    "text_4 = \"\"\"Besides that, love can make someone change, either to fit with his/her loved one or to get his/her attention. It’s good if the change go to the positive direction.I think, on eastern culture, it is not usual if a woman express her feeling first to a man she loved. So, note to every man, say ‘love’ if you love her before it’s too late because second chances do not always exist.\"\"\"\n",
    "text_5 = \"\"\"I like to start the year with some nonfiction to guide me in a new year. Parenting in the Present Moment reminds parents that we really have all the tools we need if we could be less judgmental of ourselves and work towards staying present. I liked Naumberg’s STAY model, which stands for stop whatever it is you’re doing, take a breath; attune to your thoughts and those of your child; and yield. In some ways I find all of this easier to do with my 4th child as opposed to my 1st because I know that things will generally be okay and it’s not worth freaking out all the time. Quick, good read.\"\"\"\n",
    "text_6 = \"\"\"Entertaining and well-written account of one woman’s mission to get her family off of added fructose for a year. (i.e. this was about added sugar, but not about glucose that comes from eating pasta, etc.). It still sounded REALLY hard. I’m glad I read it, but it’s not like I was surprised by how much sugar is in everything. Still, it was a major reminder that there are some ways to cut down, which I’m always trying to do. Another quick, good read to start the new year.\"\"\"\n",
    "text_7 = \"\"\"Staying with the self-improvement theme for early 2015, I tossed a craft book into the ring that I’ve been meaning to read for a long time. Moore’s advice is great, and I enjoyed most of the chapters. I especially liked this reminder: “The rewards of publication are fleeting, while the rewards of a regular writing practice are countless.\"\"\"\n",
    "text_8 = \"\"\"I thought this was YA, but there’s so much sex . . . I wouldn’t recommend it for teens. Pearl does a good job dealing with the tough topic of rape and abuse. It was a book that I couldn’t put down. That said it could have been 80 pages shorter.\"\"\"\n",
    "text_9 = \"\"\"Breen makes a great point that social media is here to stay and that getting some influence over our kids’ opinions about how to behave online should start early while they’re still listening to us more than they’re listening to their friends. Great advice throughout the book.\"\"\"\n",
    "text_10 = \"\"\"The atmosphere of loneliness in this book and the general apathy of the main character, Anna, should have turned me off, but there was something that keep drawing me back to this book. (And it wasn’t just the sex.)  I recommend it, but I can’t exactly say why, especially since the end was inevitable considering this Anna is in the spirit of Anna Karenina.\"\"\"\n",
    "text_11 = \"\"\"I’m a huge fan of epistolary novels, and this was the first nonfiction epistolary work I’ve read that sort of came off like a novel. It was cool to have this personal glimpse into the lives of these two friends keeping in touch while one was in Kenya in the Peace Corps and one was making her way in a new apartment and new job in NYC. I also enjoyed that the letters were written around (I think) 1996, which made me nostalgic for that pre-Facebook, pre-‘e’ everything time\"\"\""
   ]
  },
  {
   "cell_type": "code",
   "execution_count": 2,
   "metadata": {
    "collapsed": true,
    "deletable": true,
    "editable": true
   },
   "outputs": [],
   "source": [
    "y_data = [[0,0,0,1,0],[0,0,0,1,0],[0,0,0,1,0],[0,0,0,1,0],[0,0,0,1,0],[0,0,0,1,0],[0,0,0,1,0],[0,0,0,1,0],[0,0,0,1,0],[0,0,0,1,0],[0,0,0,1,0]]"
   ]
  },
  {
   "cell_type": "code",
   "execution_count": 3,
   "metadata": {
    "collapsed": false,
    "deletable": true,
    "editable": true
   },
   "outputs": [
    {
     "data": {
      "text/plain": [
       "[[0, 0, 0, 1, 0],\n",
       " [0, 0, 0, 1, 0],\n",
       " [0, 0, 0, 1, 0],\n",
       " [0, 0, 0, 1, 0],\n",
       " [0, 0, 0, 1, 0],\n",
       " [0, 0, 0, 1, 0],\n",
       " [0, 0, 0, 1, 0],\n",
       " [0, 0, 0, 1, 0],\n",
       " [0, 0, 0, 1, 0],\n",
       " [0, 0, 0, 1, 0],\n",
       " [0, 0, 0, 1, 0]]"
      ]
     },
     "execution_count": 3,
     "metadata": {},
     "output_type": "execute_result"
    }
   ],
   "source": [
    "y_data"
   ]
  },
  {
   "cell_type": "code",
   "execution_count": 6,
   "metadata": {
    "collapsed": false,
    "deletable": true,
    "editable": true
   },
   "outputs": [
    {
     "name": "stdout",
     "output_type": "stream",
     "text": [
      "[\"this is one sweet short read, and even so i felt that Jess was flashed enough to hold the story. this is a stroy if a magic soup and love, and no, you don't get to the HEA. Enough to keep u satisfied. A part wish to know a bit more of what happened with Jess, but another part of me is content at the story and the ending. what was just REfreshing. All in al a great short read, perfect for a busy/bad day so you could cheer up and realx.\", 'This most expensive film deserves be given 2 thumbs. The film \"Avatar the Movie\" by director James Cameron is inviting a lot of admiration from the audience. Avatar is a semi-real film, meaning that part using 3D animation. Although 3D animation in some scenes look cheap aka obviously animated, but I think it is not too disturbing film Avatar as a whole. With Avatar the Movie, James Cameron re-considered the king of the world\\'s movies. After previously also rocked the audience emotionally with \"Titanic\" movie.Is it a great movie? I think yes. It’s very amazing film I have ever seen. There are no major plot holes I could see. The technology is brilliant and used well, and the setting itself is gorgeous.', 'After watching this movie, it is funny to realize how every little thing can make us either happy or worried. Chasing is really the best part, right?', 'Besides that, love can make someone change, either to fit with his/her loved one or to get his/her attention. It’s good if the change go to the positive direction.I think, on eastern culture, it is not usual if a woman express her feeling first to a man she loved. So, note to every man, say ‘love’ if you love her before it’s too late because second chances do not always exist.', 'I like to start the year with some nonfiction to guide me in a new year. Parenting in the Present Moment reminds parents that we really have all the tools we need if we could be less judgmental of ourselves and work towards staying present. I liked Naumberg’s STAY model, which stands for stop whatever it is you’re doing, take a breath; attune to your thoughts and those of your child; and yield. In some ways I find all of this easier to do with my 4th child as opposed to my 1st because I know that things will generally be okay and it’s not worth freaking out all the time. Quick, good read.', 'Entertaining and well-written account of one woman’s mission to get her family off of added fructose for a year. (i.e. this was about added sugar, but not about glucose that comes from eating pasta, etc.). It still sounded REALLY hard. I’m glad I read it, but it’s not like I was surprised by how much sugar is in everything. Still, it was a major reminder that there are some ways to cut down, which I’m always trying to do. Another quick, good read to start the new year.', 'Staying with the self-improvement theme for early 2015, I tossed a craft book into the ring that I’ve been meaning to read for a long time. Moore’s advice is great, and I enjoyed most of the chapters. I especially liked this reminder: “The rewards of publication are fleeting, while the rewards of a regular writing practice are countless.', 'I thought this was YA, but there’s so much sex . . . I wouldn’t recommend it for teens. Pearl does a good job dealing with the tough topic of rape and abuse. It was a book that I couldn’t put down. That said it could have been 80 pages shorter.', 'Breen makes a great point that social media is here to stay and that getting some influence over our kids’ opinions about how to behave online should start early while they’re still listening to us more than they’re listening to their friends. Great advice throughout the book.', 'The atmosphere of loneliness in this book and the general apathy of the main character, Anna, should have turned me off, but there was something that keep drawing me back to this book. (And it wasn’t just the sex.)  I recommend it, but I can’t exactly say why, especially since the end was inevitable considering this Anna is in the spirit of Anna Karenina.', 'I’m a huge fan of epistolary novels, and this was the first nonfiction epistolary work I’ve read that sort of came off like a novel. It was cool to have this personal glimpse into the lives of these two friends keeping in touch while one was in Kenya in the Peace Corps and one was making her way in a new apartment and new job in NYC. I also enjoyed that the letters were written around (I think) 1996, which made me nostalgic for that pre-Facebook, pre-‘e’ everything time']\n"
     ]
    }
   ],
   "source": [
    "texts = [text_1,text_2,text_3,text_4,text_5,text_6,text_7,text_8,text_9,text_10,text_11]\n",
    "print (texts)"
   ]
  },
  {
   "cell_type": "code",
   "execution_count": 7,
   "metadata": {
    "collapsed": false,
    "deletable": true,
    "editable": true
   },
   "outputs": [],
   "source": [
    "from sklearn.feature_extraction.text import TfidfVectorizer\n",
    "vectorizer = TfidfVectorizer(min_df=1)\n",
    "X = vectorizer.fit_transform(texts)\n",
    "# TFIDF"
   ]
  },
  {
   "cell_type": "code",
   "execution_count": 8,
   "metadata": {
    "collapsed": false,
    "deletable": true,
    "editable": true
   },
   "outputs": [
    {
     "data": {
      "text/plain": [
       "array([[ 0.        ,  0.        ,  0.        , ...,  0.        ,\n",
       "         0.16966141,  0.        ],\n",
       "       [ 0.        ,  0.        ,  0.        , ...,  0.        ,\n",
       "         0.        ,  0.        ],\n",
       "       [ 0.        ,  0.        ,  0.        , ...,  0.        ,\n",
       "         0.        ,  0.        ],\n",
       "       ..., \n",
       "       [ 0.        ,  0.        ,  0.        , ...,  0.        ,\n",
       "         0.        ,  0.        ],\n",
       "       [ 0.        ,  0.        ,  0.        , ...,  0.        ,\n",
       "         0.        ,  0.        ],\n",
       "       [ 0.11540324,  0.        ,  0.        , ...,  0.        ,\n",
       "         0.        ,  0.        ]])"
      ]
     },
     "execution_count": 8,
     "metadata": {},
     "output_type": "execute_result"
    }
   ],
   "source": [
    "X.toarray()\n",
    "# DATA 타입을 ARRAY(리스트) 만드는 것 "
   ]
  },
  {
   "cell_type": "code",
   "execution_count": 9,
   "metadata": {
    "collapsed": false,
    "deletable": true,
    "editable": true
   },
   "outputs": [],
   "source": [
    "def pos_tagging(document):\n",
    "    result = nltk.pos_tag( nltk.word_tokenize(document))    \n",
    "    last_result = ['/'.join(t) for t in result]\n",
    "    return last_result\n",
    "# 품사 tagging"
   ]
  },
  {
   "cell_type": "code",
   "execution_count": 169,
   "metadata": {
    "collapsed": true,
    "deletable": true,
    "editable": true
   },
   "outputs": [],
   "source": [
    "tagging_texts = [pos_tagging(text) for text in texts]"
   ]
  },
  {
   "cell_type": "code",
   "execution_count": 170,
   "metadata": {
    "collapsed": false,
    "deletable": true,
    "editable": true
   },
   "outputs": [],
   "source": [
    "choose_tagging_texts = []\n",
    "for i in range(len(tagging_texts)):\n",
    "    choose_tagging_texts.append([])\n",
    "    for j in tagging_texts[i]:\n",
    "        if j.split(\"/\")[1] ==\"NN\":\n",
    "            choose_tagging_texts[i].append(j)\n",
    "# NN만 추출"
   ]
  },
  {
   "cell_type": "code",
   "execution_count": 171,
   "metadata": {
    "collapsed": false,
    "deletable": true,
    "editable": true
   },
   "outputs": [],
   "source": [
    "data_handle = []\n",
    "for i in choose_tagging_texts:\n",
    "    data_handle.append(\" \".join(i))\n",
    "# TFIDF 하려고 인풋 아웃풋 형식을 맞춰 줌. 2차원 LIST를 1차원 LIST로 이어줌."
   ]
  },
  {
   "cell_type": "code",
   "execution_count": 172,
   "metadata": {
    "collapsed": false,
    "deletable": true,
    "editable": true
   },
   "outputs": [
    {
     "data": {
      "text/plain": [
       "['sweet/NN read/NN story/NN stroy/NN soup/NN love/NN part/NN wish/NN bit/NN part/NN story/NN read/NN day/NN realx/NN',\n",
       " 'film/NN film/NN director/NN lot/NN admiration/NN audience/NN film/NN part/NN animation/NN animation/NN aka/NN film/NN whole/NN king/NN world/NN audience/NN movie.Is/NN movie/NN film/NN plot/NN technology/NN',\n",
       " 'movie/NN thing/NN part/NN',\n",
       " 'someone/NN change/NN attention/NN change/NN direction.I/NN think/NN culture/NN woman/NN express/NN feeling/NN man/NN note/NN man/NN',\n",
       " 'year/NN nonfiction/NN year/NN judgmental/NN work/NN model/NN stop/NN whatever/NN breath/NN child/NN yield/NN child/NN time/NN read/NN',\n",
       " 'account/NN mission/NN family/NN fructose/NN year/NN sugar/NN glucose/NN pasta/NN etc./NN sugar/NN everything/NN reminder/NN quick/NN read/NN year/NN',\n",
       " 'theme/NN craft/NN book/NN ring/NN time/NN advice/NN reminder/NN publication/NN writing/NN practice/NN countless/NN',\n",
       " 'sex/NN job/NN topic/NN rape/NN abuse/NN book/NN',\n",
       " 'point/NN influence/NN online/NN they’re/NN advice/NN book/NN',\n",
       " 'atmosphere/NN loneliness/NN book/NN apathy/NN character/NN something/NN book/NN sex/NN end/NN spirit/NN',\n",
       " 'fan/NN nonfiction/NN work/NN sort/NN novel/NN glimpse/NN touch/NN way/NN apartment/NN job/NN pre-Facebook/NN everything/NN time/NN']"
      ]
     },
     "execution_count": 172,
     "metadata": {},
     "output_type": "execute_result"
    }
   ],
   "source": [
    "data_handle"
   ]
  },
  {
   "cell_type": "code",
   "execution_count": 173,
   "metadata": {
    "collapsed": false,
    "deletable": true,
    "editable": true
   },
   "outputs": [],
   "source": [
    "from sklearn.feature_extraction.text import TfidfVectorizer\n",
    "vectorizer = TfidfVectorizer(min_df=1)\n",
    "D = vectorizer.fit_transform(data_handle)\n",
    "## 추출한 것을 TFIDF 벡터화 함"
   ]
  },
  {
   "cell_type": "code",
   "execution_count": 174,
   "metadata": {
    "collapsed": false,
    "deletable": true,
    "editable": true
   },
   "outputs": [],
   "source": [
    "D = D.toarray()\n",
    "#리스트로 만듬"
   ]
  },
  {
   "cell_type": "code",
   "execution_count": 175,
   "metadata": {
    "collapsed": false,
    "deletable": true,
    "editable": true
   },
   "outputs": [
    {
     "data": {
      "text/plain": [
       "(11, 95)"
      ]
     },
     "execution_count": 175,
     "metadata": {},
     "output_type": "execute_result"
    }
   ],
   "source": [
    "D.shape\n",
    "# 행,렬 "
   ]
  },
  {
   "cell_type": "code",
   "execution_count": 176,
   "metadata": {
    "collapsed": false,
    "deletable": true,
    "editable": true
   },
   "outputs": [
    {
     "name": "stdout",
     "output_type": "stream",
     "text": [
      "0 16.6184\n",
      "100 0.0225535\n"
     ]
    }
   ],
   "source": [
    "import tensorflow as tf\n",
    "\n",
    "x = tf.placeholder(tf.float32, [11, 95])\n",
    "\n",
    "w1 = tf.Variable(tf.truncated_normal([95, 50], stddev = 0.1))\n",
    "b1 = tf.Variable(tf.truncated_normal([50]))\n",
    "w2 = tf.Variable(tf.truncated_normal([50, 5], stddev = 0.1))\n",
    "b2 = tf.Variable(tf.truncated_normal([5]))\n",
    "\n",
    "output =  tf.sigmoid(tf.matmul(x, w1) + b1)\n",
    "hypothesis = tf.sigmoid(tf.matmul(output,w2)+b2)\n",
    "\n",
    "cost = -tf.reduce_sum(y_data * tf.log(tf.clip_by_value(hypothesis,1e-10,1.0)))\n",
    "train_step = tf.train.AdamOptimizer(0.01).minimize(cost)\n",
    "\n",
    "init = tf.global_variables_initializer()\n",
    "sess = tf.Session()\n",
    "sess.run(init)\n",
    "\n",
    "for i in range(200):\n",
    "    sess.run(train_step, feed_dict={x:D})\n",
    "    if i % 100 == 0:\n",
    "        print(i, sess.run(cost, feed_dict={x:D}))\n",
    "        \n",
    "# 뉴럴넷"
   ]
  },
  {
   "cell_type": "code",
   "execution_count": 177,
   "metadata": {
    "collapsed": false,
    "deletable": true,
    "editable": true
   },
   "outputs": [
    {
     "name": "stdout",
     "output_type": "stream",
     "text": [
      "1.0\n"
     ]
    }
   ],
   "source": [
    "correct_prediction = tf.equal(tf.argmax(hypothesis, 1), tf.argmax(y_data,1))\n",
    "accuracy = tf.reduce_mean(tf.cast(correct_prediction, tf.float32))\n",
    "\n",
    "print(sess.run(accuracy, feed_dict={x: D}))\n",
    "# 정확도 측정"
   ]
  },
  {
   "cell_type": "code",
   "execution_count": 178,
   "metadata": {
    "collapsed": false,
    "deletable": true,
    "editable": true
   },
   "outputs": [
    {
     "name": "stdout",
     "output_type": "stream",
     "text": [
      "[[ 0.34037039  0.21048921  0.76346743  0.99902737  0.39377826]\n",
      " [ 0.34155929  0.20924018  0.76099104  0.99904794  0.39288461]\n",
      " [ 0.35386664  0.2100831   0.76712888  0.99861157  0.39641771]\n",
      " [ 0.34053519  0.2075454   0.76145607  0.99903971  0.39323404]\n",
      " [ 0.33823073  0.20761579  0.76173055  0.99901915  0.39513469]\n",
      " [ 0.33859941  0.20993057  0.76244527  0.99906009  0.39366361]\n",
      " [ 0.34221068  0.2091462   0.76337147  0.99901211  0.39426887]\n",
      " [ 0.3440192   0.20663205  0.7634297   0.9988808   0.39235383]\n",
      " [ 0.3412815   0.21091017  0.76256955  0.99896383  0.39501831]\n",
      " [ 0.34150401  0.20849803  0.76313049  0.99900961  0.39386502]\n",
      " [ 0.33639947  0.20970759  0.76119709  0.99910504  0.39465788]]\n"
     ]
    }
   ],
   "source": [
    "print(sess.run(hypothesis, feed_dict={x: D}))\n",
    "# 결과값"
   ]
  },
  {
   "cell_type": "code",
   "execution_count": 179,
   "metadata": {
    "collapsed": false,
    "deletable": true,
    "editable": true
   },
   "outputs": [
    {
     "name": "stdout",
     "output_type": "stream",
     "text": [
      "[3 3 3 3 3 3 3 3 3 3 3]\n"
     ]
    }
   ],
   "source": [
    "print(sess.run(tf.argmax(hypothesis, 1), feed_dict={x: D}))\n",
    "# 결과값 중에 높은 인덱스 가져오기"
   ]
  },
  {
   "cell_type": "code",
   "execution_count": null,
   "metadata": {
    "collapsed": true,
    "deletable": true,
    "editable": true
   },
   "outputs": [],
   "source": []
  },
  {
   "cell_type": "code",
   "execution_count": null,
   "metadata": {
    "collapsed": true,
    "deletable": true,
    "editable": true
   },
   "outputs": [],
   "source": []
  },
  {
   "cell_type": "code",
   "execution_count": null,
   "metadata": {
    "collapsed": true,
    "deletable": true,
    "editable": true
   },
   "outputs": [],
   "source": []
  },
  {
   "cell_type": "code",
   "execution_count": null,
   "metadata": {
    "collapsed": true,
    "deletable": true,
    "editable": true
   },
   "outputs": [],
   "source": []
  },
  {
   "cell_type": "code",
   "execution_count": null,
   "metadata": {
    "collapsed": true,
    "deletable": true,
    "editable": true
   },
   "outputs": [],
   "source": []
  },
  {
   "cell_type": "code",
   "execution_count": null,
   "metadata": {
    "collapsed": true,
    "deletable": true,
    "editable": true
   },
   "outputs": [],
   "source": []
  },
  {
   "cell_type": "code",
   "execution_count": null,
   "metadata": {
    "collapsed": true,
    "deletable": true,
    "editable": true
   },
   "outputs": [],
   "source": []
  },
  {
   "cell_type": "code",
   "execution_count": null,
   "metadata": {
    "collapsed": true,
    "deletable": true,
    "editable": true
   },
   "outputs": [],
   "source": []
  },
  {
   "cell_type": "code",
   "execution_count": null,
   "metadata": {
    "collapsed": true,
    "deletable": true,
    "editable": true
   },
   "outputs": [],
   "source": []
  },
  {
   "cell_type": "code",
   "execution_count": null,
   "metadata": {
    "collapsed": true,
    "deletable": true,
    "editable": true
   },
   "outputs": [],
   "source": []
  },
  {
   "cell_type": "code",
   "execution_count": null,
   "metadata": {
    "collapsed": true,
    "deletable": true,
    "editable": true
   },
   "outputs": [],
   "source": []
  }
 ],
 "metadata": {
  "kernelspec": {
   "display_name": "Python 3",
   "language": "python",
   "name": "python3"
  },
  "language_info": {
   "codemirror_mode": {
    "name": "ipython",
    "version": 3
   },
   "file_extension": ".py",
   "mimetype": "text/x-python",
   "name": "python",
   "nbconvert_exporter": "python",
   "pygments_lexer": "ipython3",
   "version": "3.6.0"
  }
 },
 "nbformat": 4,
 "nbformat_minor": 2
}
