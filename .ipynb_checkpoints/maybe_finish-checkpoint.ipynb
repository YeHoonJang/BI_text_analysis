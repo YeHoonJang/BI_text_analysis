{
 "cells": [
  {
   "cell_type": "markdown",
   "metadata": {},
   "source": [
    "### 데이터 받아오기"
   ]
  },
  {
   "cell_type": "code",
   "execution_count": 1,
   "metadata": {
    "collapsed": true
   },
   "outputs": [],
   "source": [
    "import json\n",
    "import numpy as np\n",
    "import random\n",
    "import nltk"
   ]
  },
  {
   "cell_type": "code",
   "execution_count": 2,
   "metadata": {
    "collapsed": true
   },
   "outputs": [],
   "source": [
    "with open(\"data/reviews_Books_5.json\",\"r\") as data_file:\n",
    "    raw_data=data_file.readlines()"
   ]
  },
  {
   "cell_type": "code",
<<<<<<< HEAD:Bi_project_Accuracy_predict.ipynb
   "execution_count": 26,
=======
   "execution_count": 3,
>>>>>>> 80a31fc2fcd1665e957ce50e6d0d287e3eaffcdd:.ipynb_checkpoints/maybe_finish-checkpoint.ipynb
   "metadata": {},
   "outputs": [
    {
     "name": "stdout",
     "output_type": "stream",
     "text": [
      "{\"reviewerID\": \"AAXUNK0W2DZG5\", \"asin\": \"0060520841\", \"reviewerName\": \"Amazon Customer \\\"leneker\\\"\", \"helpful\": [5, 10], \"reviewText\": \"1996 Bernard Goldberg wrote an editorial for the Wall Street Journal that said there was an obvious bias on the part of network new shows  for the liberal point of view.  he then illustrated this with an example that he dissected in-depth.  The reaction to this observation was the ruination of her career, and the beginning of his status as a pariah among most newsmen.  This book is used to add more ammo to the controversy.That the journalists who so eagerly pry into other peoples lives and business should be reluctant to be examined is hardly surprising.  Almost no one really wants to have his life or business dissected by Mike Wallace not even Dan Rather.  Some facts in this book are really potent such as the survey results which show how the average journalist and the average American are often vastly at odds.  Other chapters highlight different stories that TV news has covered and the analysis that Goldberg has made to point out the liberal bias.  His main theme is that while there is no conspiracy of the left, the fact is that most reporters are liberal but fewer still will admit it.There is some sound reasoning behind this book.  Sadly in execution, it doesn't come off as well as it could.  Goldberg has one argument in all the years he worked closely with Dan Rather (according to him) and yet it seems like all they did was fight.  Why ?  because Goldberg replays that one argument about 5 or 6 times in the book.  Much of the material that is thought provoking the first time around is pretty stale after the third or fourth reading. He kindly reprints the editorial that started the whole furor, too bad this was at the end of the book because the entire first chapter is just a rehash of that argument.  Too often Goldberg is reduced sounding like the bitter vindictive perso 93184\n"
     ]
    }
   ],
   "source": [
    "json_list = []\n",
    "for i in range(len(raw_data)):\n",
    "    try:\n",
    "        json_data = json.loads(raw_data[i])\n",
    "        json_list.append(json_data)\n",
    "    except:\n",
    "        print(raw_data[i],i)"
   ]
  },
  {
   "cell_type": "markdown",
   "metadata": {},
   "source": [
    "### 데이터 분리하기"
   ]
  },
  {
   "cell_type": "code",
   "execution_count": 4,
   "metadata": {
    "collapsed": true
   },
   "outputs": [],
   "source": [
    "review_data = []\n",
    "\n",
    "for i in range(len(json_list)):\n",
    "    review_dict={}\n",
    "    review_dict[\"reviewText\"] = json_list[i][\"reviewText\"]\n",
    "    review_dict[\"overall\"] = json_list[i][\"overall\"]\n",
    "    review_data.append(review_dict)"
   ]
  },
  {
   "cell_type": "code",
   "execution_count": 5,
   "metadata": {
    "collapsed": true
   },
   "outputs": [],
   "source": [
    "reviewText = []\n",
    "for i in range(len(review_data)):\n",
    "    reviewText.append(review_data[i][\"reviewText\"])"
   ]
  },
  {
   "cell_type": "code",
   "execution_count": 6,
   "metadata": {
    "collapsed": true
   },
   "outputs": [],
   "source": [
    "y_data = []\n",
    "for i in range(len(review_data)):\n",
    "    y_data.append(review_data[i][\"overall\"])"
   ]
  },
  {
   "cell_type": "markdown",
   "metadata": {},
   "source": [
    "### 가장 작은 평점으로 갯수 맞추기"
   ]
  },
  {
   "cell_type": "code",
   "execution_count": 7,
   "metadata": {},
   "outputs": [
    {
     "data": {
      "text/plain": [
       "Counter({1.0: 4239, 2.0: 5102, 3.0: 10177, 4.0: 21555, 5.0: 52111})"
      ]
     },
     "execution_count": 7,
     "metadata": {},
     "output_type": "execute_result"
    }
   ],
   "source": [
    "from collections import Counter\n",
    "Counter(y_data)"
   ]
  },
  {
   "cell_type": "code",
   "execution_count": 8,
   "metadata": {
    "collapsed": true
   },
   "outputs": [],
   "source": [
    "from collections import Counter\n",
    "length=sorted(Counter(y_data).most_common())[0][1]"
   ]
  },
  {
   "cell_type": "code",
<<<<<<< HEAD:Bi_project_Accuracy_predict.ipynb
   "execution_count": 34,
=======
   "execution_count": 9,
   "metadata": {
    "collapsed": true
   },
   "outputs": [],
   "source": [
    "search=[1.0,2.0,3.0,4.0,5.0]\n",
    "count=0\n",
    "text=[]\n",
    "y=[]\n",
    "\n",
    "for i in search:\n",
    "    count=0\n",
    "    for index,value in enumerate(y_data):\n",
    "        if (count==length): break\n",
    "        elif (i==value):\n",
    "            text.append(reviewText[index])\n",
    "            y.append(value)\n",
    "            count=count+1"
   ]
  },
  {
   "cell_type": "code",
   "execution_count": 10,
>>>>>>> 80a31fc2fcd1665e957ce50e6d0d287e3eaffcdd:.ipynb_checkpoints/maybe_finish-checkpoint.ipynb
   "metadata": {},
   "outputs": [
    {
     "data": {
      "text/plain": [
       "Counter({1.0: 4239, 2.0: 4239, 3.0: 4239, 4.0: 4239, 5.0: 4239})"
      ]
     },
     "execution_count": 10,
     "metadata": {},
     "output_type": "execute_result"
    }
   ],
   "source": [
    "Counter(y)"
   ]
  },
  {
   "cell_type": "markdown",
   "metadata": {},
   "source": [
    "### 데이터 셔플"
   ]
  },
  {
   "cell_type": "code",
   "execution_count": 11,
   "metadata": {
    "collapsed": true
   },
   "outputs": [],
   "source": [
    "c = list(zip(text, y))\n",
    "random.shuffle(c)"
   ]
  },
  {
<<<<<<< HEAD:Bi_project_Accuracy_predict.ipynb
   "cell_type": "markdown",
   "metadata": {},
=======
   "cell_type": "code",
   "execution_count": 12,
   "metadata": {
    "collapsed": true
   },
   "outputs": [],
>>>>>>> 80a31fc2fcd1665e957ce50e6d0d287e3eaffcdd:.ipynb_checkpoints/maybe_finish-checkpoint.ipynb
   "source": [
    "a, b = zip(*c)"
   ]
  },
  {
   "cell_type": "code",
   "execution_count": 13,
   "metadata": {
    "collapsed": true
   },
   "outputs": [],
   "source": [
    "text=list(a)\n",
    "overall=np.array(list(b))"
   ]
  },
  {
   "cell_type": "code",
   "execution_count": 37,
   "metadata": {
    "collapsed": true
   },
   "outputs": [],
   "source": [
    "from sklearn.feature_extraction.text import TfidfVectorizer\n",
    "vectorizer = TfidfVectorizer(analyzer='word', sublinear_tf=True,lowercase=True)\n",
    "#vectorizer = TfidfVectorizer(ngram_range=(1,2))\n",
    "\n",
    "tfidf = vectorizer.fit_transform(text)"
   ]
  },
  {
   "cell_type": "code",
   "execution_count": 38,
   "metadata": {
    "collapsed": true
   },
   "outputs": [],
   "source": [
    "from sklearn.model_selection import train_test_split\n",
    "x_train, x_test, y_train, y_test = train_test_split(tfidf , overall , test_size=0.33, random_state=100)"
   ]
  },
  {
   "cell_type": "code",
   "execution_count": 39,
   "metadata": {},
   "outputs": [
    {
     "data": {
      "text/plain": [
       "((14200, 56804), (14200,), (6995, 56804), (6995,))"
      ]
     },
     "execution_count": 39,
     "metadata": {},
     "output_type": "execute_result"
    }
   ],
   "source": [
    "x_train.shape, y_train.shape, x_test.shape, y_test.shape"
   ]
  },
  {
<<<<<<< HEAD:Bi_project_Accuracy_predict.ipynb
   "cell_type": "code",
   "execution_count": 40,
   "metadata": {},
   "outputs": [
    {
     "data": {
      "text/plain": [
       "((83868, 60901), (83868,), (9316, 60901), (9316,))"
      ]
     },
     "execution_count": 40,
     "metadata": {},
     "output_type": "execute_result"
    }
   ],
=======
   "cell_type": "markdown",
   "metadata": {},
>>>>>>> 80a31fc2fcd1665e957ce50e6d0d287e3eaffcdd:.ipynb_checkpoints/maybe_finish-checkpoint.ipynb
   "source": [
    "### 예측"
   ]
  },
  {
   "cell_type": "markdown",
   "metadata": {},
   "source": [
    "#### Multiclass SVM"
   ]
  },
  {
   "cell_type": "code",
<<<<<<< HEAD:Bi_project_Accuracy_predict.ipynb
   "execution_count": 41,
=======
   "execution_count": 17,
>>>>>>> 80a31fc2fcd1665e957ce50e6d0d287e3eaffcdd:.ipynb_checkpoints/maybe_finish-checkpoint.ipynb
   "metadata": {},
   "outputs": [
    {
     "data": {
      "text/plain": [
       "array([ 2.,  1.,  3., ...,  5.,  4.,  1.])"
      ]
     },
     "execution_count": 17,
     "metadata": {},
     "output_type": "execute_result"
    }
   ],
   "source": [
    "from sklearn import datasets\n",
    "from sklearn.multiclass import OneVsRestClassifier\n",
    "from sklearn.svm import LinearSVC\n",
    "\n",
    "result = OneVsRestClassifier(LinearSVC(random_state=100)).fit(x_train, y_train)\n",
    "result.predict(x_test)"
   ]
  },
  {
   "cell_type": "code",
<<<<<<< HEAD:Bi_project_Accuracy_predict.ipynb
   "execution_count": 42,
=======
   "execution_count": 18,
>>>>>>> 80a31fc2fcd1665e957ce50e6d0d287e3eaffcdd:.ipynb_checkpoints/maybe_finish-checkpoint.ipynb
   "metadata": {},
   "outputs": [
    {
     "data": {
      "text/plain": [
       "0.51706243119987416"
      ]
     },
     "execution_count": 18,
     "metadata": {},
     "output_type": "execute_result"
    }
   ],
   "source": [
    "from sklearn.metrics import accuracy_score\n",
    "accuracy_score(result.predict(x_test),y_test)"
   ]
  },
  {
<<<<<<< HEAD:Bi_project_Accuracy_predict.ipynb
   "cell_type": "code",
   "execution_count": 43,
   "metadata": {
    "collapsed": true
   },
   "outputs": [],
=======
   "cell_type": "markdown",
   "metadata": {},
>>>>>>> 80a31fc2fcd1665e957ce50e6d0d287e3eaffcdd:.ipynb_checkpoints/maybe_finish-checkpoint.ipynb
   "source": [
    "### LogisticRegression"
   ]
  },
  {
   "cell_type": "code",
<<<<<<< HEAD:Bi_project_Accuracy_predict.ipynb
   "execution_count": 44,
=======
   "execution_count": 40,
>>>>>>> 80a31fc2fcd1665e957ce50e6d0d287e3eaffcdd:.ipynb_checkpoints/maybe_finish-checkpoint.ipynb
   "metadata": {},
   "outputs": [
    {
     "data": {
      "text/plain": [
       "array([ True, False, False, ..., False,  True,  True], dtype=bool)"
      ]
     },
     "execution_count": 40,
     "metadata": {},
     "output_type": "execute_result"
    }
   ],
   "source": [
    "from sklearn import linear_model\n",
    "logreg = linear_model.LogisticRegression()\n",
    "\n",
    "logreg.fit(x_train, y_train)\n",
    "logreg.predict(x_test)==y_test"
   ]
  },
  {
<<<<<<< HEAD:Bi_project_Accuracy_predict.ipynb
   "cell_type": "markdown",
   "metadata": {},
=======
   "cell_type": "code",
   "execution_count": 41,
   "metadata": {},
   "outputs": [
    {
     "data": {
      "text/plain": [
       "0.56683345246604722"
      ]
     },
     "execution_count": 41,
     "metadata": {},
     "output_type": "execute_result"
    }
   ],
>>>>>>> 80a31fc2fcd1665e957ce50e6d0d287e3eaffcdd:.ipynb_checkpoints/maybe_finish-checkpoint.ipynb
   "source": [
    "from sklearn.metrics import accuracy_score\n",
    "accuracy_score(logreg.predict(x_test), y_test)"
   ]
  },
  {
   "cell_type": "code",
<<<<<<< HEAD:Bi_project_Accuracy_predict.ipynb
   "execution_count": 45,
=======
   "execution_count": 44,
>>>>>>> 80a31fc2fcd1665e957ce50e6d0d287e3eaffcdd:.ipynb_checkpoints/maybe_finish-checkpoint.ipynb
   "metadata": {},
   "outputs": [
    {
     "data": {
      "text/plain": [
       "array([ 2.,  4.,  4.,  3.,  2.,  2.,  2.,  3.,  1.,  2.,  5.,  3.,  3.,\n",
       "        4.,  3.,  1.,  3.,  3.,  1.,  5.])"
      ]
     },
     "execution_count": 44,
     "metadata": {},
     "output_type": "execute_result"
    }
   ],
   "source": [
    "y_test[:20]"
   ]
  },
  {
   "cell_type": "code",
<<<<<<< HEAD:Bi_project_Accuracy_predict.ipynb
   "execution_count": 46,
=======
   "execution_count": 45,
>>>>>>> 80a31fc2fcd1665e957ce50e6d0d287e3eaffcdd:.ipynb_checkpoints/maybe_finish-checkpoint.ipynb
   "metadata": {},
   "outputs": [
    {
     "data": {
      "text/plain": [
       "array([ 2.,  1.,  5.,  4.,  2.,  1.,  4.,  3.,  1.,  2.,  5.,  4.,  3.,\n",
       "        4.,  1.,  2.,  3.,  2.,  1.,  5.])"
      ]
     },
     "execution_count": 45,
     "metadata": {},
     "output_type": "execute_result"
    }
   ],
   "source": [
    "logreg.predict(x_test)[:20]"
   ]
  },
  {
   "cell_type": "markdown",
   "metadata": {},
   "source": [
    "### INPUT "
   ]
  },
  {
   "cell_type": "code",
   "execution_count": 30,
   "metadata": {
    "collapsed": true
   },
   "outputs": [],
   "source": [
    "texts = [\"I hate this story. It's too boring. So I don't recommend this book to you guys\",\n",
    "        \"I love this book\"]\n",
    "vecs = vectorizer.transform(texts) "
   ]
  },
  {
   "cell_type": "code",
<<<<<<< HEAD:Bi_project_Accuracy_predict.ipynb
   "execution_count": 48,
=======
   "execution_count": 31,
>>>>>>> 80a31fc2fcd1665e957ce50e6d0d287e3eaffcdd:.ipynb_checkpoints/maybe_finish-checkpoint.ipynb
   "metadata": {},
   "outputs": [
    {
     "name": "stdout",
     "output_type": "stream",
     "text": [
      "[ 1.  5.]\n"
     ]
    }
   ],
   "source": [
    "print(logreg.predict(vecs))"
   ]
  }
 ],
 "metadata": {
  "kernelspec": {
   "display_name": "Python 3",
   "language": "python",
   "name": "python3"
  },
  "language_info": {
   "codemirror_mode": {
    "name": "ipython",
    "version": 3
   },
   "file_extension": ".py",
   "mimetype": "text/x-python",
   "name": "python",
   "nbconvert_exporter": "python",
   "pygments_lexer": "ipython3",
   "version": "3.5.0"
  }
 },
 "nbformat": 4,
 "nbformat_minor": 2
}
