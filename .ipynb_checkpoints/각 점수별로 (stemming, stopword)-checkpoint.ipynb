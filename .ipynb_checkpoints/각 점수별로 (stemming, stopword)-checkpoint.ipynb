{
 "cells": [
  {
   "cell_type": "code",
   "execution_count": 1,
   "metadata": {
    "collapsed": false,
    "deletable": true,
    "editable": true
   },
   "outputs": [],
   "source": [
    "import json\n",
    "import numpy as np\n",
    "from sklearn.preprocessing import MultiLabelBinarizer\n",
    "import nltk"
   ]
  },
  {
   "cell_type": "code",
   "execution_count": 2,
   "metadata": {
    "collapsed": false,
    "deletable": true,
    "editable": true
   },
   "outputs": [],
   "source": [
    "with open(\"reviews_Books_5.json\",\"r\") as data_file:\n",
    "    raw_data=data_file.readlines()"
   ]
  },
  {
   "cell_type": "code",
   "execution_count": 3,
   "metadata": {
    "collapsed": false,
    "deletable": true,
    "editable": true
   },
   "outputs": [
    {
     "name": "stdout",
     "output_type": "stream",
     "text": [
      "{\"reviewerID\": \"AAXUNK0W2DZG5\", \"asin\": \"0060520841\", \"reviewerName\": \"Amazon Customer \\\"leneker\\\"\", \"helpful\": [5, 10], \"reviewText\": \"1996 Bernard Goldberg wrote an editorial for the Wall Street Journal that said there was an obvious bias on the part of network new shows  for the liberal point of view.  he then illustrated this with an example that he dissected in-depth.  The reaction to this observation was the ruination of her career, and the beginning of his status as a pariah among most newsmen.  This book is used to add more ammo to the controversy.That the journalists who so eagerly pry into other peoples lives and business should be reluctant to be examined is hardly surprising.  Almost no one really wants to have his life or business dissected by Mike Wallace not even Dan Rather.  Some facts in this book are really potent such as the survey results which show how the average journalist and the average American are often vastly at odds.  Other chapters highlight different stories that TV news has covered and the analysis that Goldberg has made to point out the liberal bias.  His main theme is that while there is no conspiracy of the left, the fact is that most reporters are liberal but fewer still will admit it.There is some sound reasoning behind this book.  Sadly in execution, it doesn't come off as well as it could.  Goldberg has one argument in all the years he worked closely with Dan Rather (according to him) and yet it seems like all they did was fight.  Why ?  because Goldberg replays that one argument about 5 or 6 times in the book.  Much of the material that is thought provoking the first time around is pretty stale after the third or fourth reading. He kindly reprints the editorial that started the whole furor, too bad this was at the end of the book because the entire first chapter is just a rehash of that argument.  Too often Goldberg is reduced sounding like the bitter vindictive perso 93184\n"
     ]
    }
   ],
   "source": [
    "json_list = []\n",
    "for i in range(len(raw_data)):\n",
    "    try:\n",
    "        json_data = json.loads(raw_data[i])\n",
    "        json_list.append(json_data)\n",
    "    except:\n",
    "        print(raw_data[i],i)"
   ]
  },
  {
   "cell_type": "code",
   "execution_count": 4,
   "metadata": {
    "collapsed": false,
    "deletable": true,
    "editable": true
   },
   "outputs": [
    {
     "name": "stdout",
     "output_type": "stream",
     "text": [
      "{'overall': 5.0, 'reviewText': 'Spiritually and mentally inspiring! A book that allows you to question your morals and will help you discover who you really are!', 'asin': '000100039X', 'unixReviewTime': 1355616000, 'helpful': [0, 0], 'reviewerName': 'Adam', 'summary': 'Wonderful!', 'reviewTime': '12 16, 2012', 'reviewerID': 'A10000012B7CGYKOMPQ4L'}\n"
     ]
    }
   ],
   "source": [
    "print(json_list[0])"
   ]
  },
  {
   "cell_type": "code",
   "execution_count": 5,
   "metadata": {
    "collapsed": false,
    "deletable": true,
    "editable": true
   },
   "outputs": [
    {
     "data": {
      "text/plain": [
       "list"
      ]
     },
     "execution_count": 5,
     "metadata": {},
     "output_type": "execute_result"
    }
   ],
   "source": [
    "review_data = []\n",
    "\n",
    "for i in range(len(json_list)):\n",
    "    review_dict={}\n",
    "    review_dict[\"reviewText\"] = json_list[i][\"reviewText\"]\n",
    "    review_dict[\"overall\"] = json_list[i][\"overall\"]\n",
    "    review_data.append(review_dict)\n",
    "type(review_data)"
   ]
  },
  {
   "cell_type": "code",
   "execution_count": 6,
   "metadata": {
    "collapsed": false,
    "deletable": true,
    "editable": true
   },
   "outputs": [
    {
     "data": {
      "text/plain": [
       "{'overall': 4.0,\n",
       " 'reviewText': 'Good Christy but clearly a late insertion into the series. Their twins could not possibly be old enough in 1939 to join the war effort.'}"
      ]
     },
     "execution_count": 6,
     "metadata": {},
     "output_type": "execute_result"
    }
   ],
   "source": [
    "import random\n",
    "random_data = random.sample(review_data,len(review_data))\n",
    "random_data[0]"
   ]
  },
  {
   "cell_type": "code",
   "execution_count": 7,
   "metadata": {
    "collapsed": true,
    "deletable": true,
    "editable": true
   },
   "outputs": [],
   "source": [
    "one = []\n",
    "two = []\n",
    "three = []\n",
    "four = []\n",
    "five = []"
   ]
  },
  {
   "cell_type": "code",
   "execution_count": 8,
   "metadata": {
    "collapsed": true,
    "deletable": true,
    "editable": true
   },
   "outputs": [],
   "source": [
    "for x in random_data:\n",
    "    if x[\"overall\"] == 1.0:\n",
    "        one.append(x[\"reviewText\"])\n",
    "    elif x[\"overall\"] == 2.0:\n",
    "        two.append(x[\"reviewText\"])\n",
    "    elif x[\"overall\"] == 3.0:\n",
    "        three.append(x[\"reviewText\"])\n",
    "    elif x[\"overall\"] == 4.0:\n",
    "        four.append(x[\"reviewText\"])\n",
    "    else:\n",
    "        five.append(x[\"reviewText\"])"
   ]
  },
  {
   "cell_type": "code",
   "execution_count": 9,
   "metadata": {
    "collapsed": false,
    "deletable": true,
    "editable": true
   },
   "outputs": [
    {
     "name": "stdout",
     "output_type": "stream",
     "text": [
      "[nltk_data] Downloading package stopwords to\n",
      "[nltk_data]     C:\\Users\\samsung\\AppData\\Roaming\\nltk_data...\n",
      "[nltk_data]   Package stopwords is already up-to-date!\n"
     ]
    },
    {
     "data": {
      "text/plain": [
       "True"
      ]
     },
     "execution_count": 9,
     "metadata": {},
     "output_type": "execute_result"
    }
   ],
   "source": [
    "nltk.download('stopwords')"
   ]
  },
  {
   "cell_type": "code",
   "execution_count": 10,
   "metadata": {
    "collapsed": false,
    "deletable": true,
    "editable": true
   },
   "outputs": [
    {
     "name": "stdout",
     "output_type": "stream",
     "text": [
      "543\n",
      "1375\n",
      "635\n",
      "1059\n",
      "1530\n",
      "1710\n",
      "2104\n",
      "2253\n",
      "3134\n",
      "4144\n",
      "4200\n",
      "5079\n",
      "5215\n",
      "5892\n",
      "6278\n",
      "7381\n",
      "7868\n",
      "8525\n",
      "8968\n",
      "10066\n",
      "630\n",
      "924\n",
      "1585\n",
      "2446\n",
      "2669\n",
      "4129\n",
      "5210\n",
      "5774\n",
      "6121\n",
      "6829\n",
      "7194\n",
      "7253\n",
      "7437\n",
      "7678\n",
      "7928\n",
      "7974\n",
      "8121\n",
      "8403\n",
      "8432\n",
      "8442\n",
      "8901\n",
      "10595\n",
      "10627\n",
      "11151\n",
      "11477\n",
      "11519\n",
      "12493\n",
      "13027\n",
      "13030\n",
      "13357\n",
      "13821\n",
      "13840\n",
      "15476\n",
      "15688\n",
      "16833\n",
      "17389\n",
      "17975\n",
      "18220\n",
      "18619\n",
      "18859\n",
      "19194\n",
      "19442\n",
      "20755\n",
      "21087\n",
      "21105\n",
      "2073\n",
      "2380\n",
      "3005\n",
      "6935\n",
      "7560\n",
      "10940\n",
      "10943\n",
      "11985\n",
      "15030\n",
      "15610\n",
      "15796\n",
      "15847\n",
      "21103\n",
      "23377\n",
      "25362\n",
      "25908\n",
      "27959\n",
      "28098\n",
      "29150\n",
      "29304\n",
      "32761\n",
      "32945\n",
      "33011\n",
      "38709\n",
      "39418\n",
      "43969\n",
      "44208\n",
      "45088\n",
      "47045\n"
     ]
    }
   ],
   "source": [
    "# 원형으로 변환해줌\n",
    "stemming_one = []\n",
    "stemming_two = []\n",
    "stemming_three = []\n",
    "stemming_four = []\n",
    "stemming_five = []\n",
    "from nltk.stem.porter import PorterStemmer\n",
    "porter = PorterStemmer()\n",
    "\n",
    "def tokenizer_porter(text):\n",
    "    return [porter.stem(word) for word in text.split()]\n",
    "\n",
    "for i in range(len(one)):\n",
    "    stemming_one.append(tokenizer_porter(one[i]))\n",
    "    \n",
    "for i in range(len(two)):\n",
    "    try:\n",
    "        stemming_two.append(tokenizer_porter(two[i]))\n",
    "    except:\n",
    "        print(i)\n",
    "\n",
    "for i in range(len(three)):\n",
    "    try:\n",
    "        stemming_three.append(tokenizer_porter(three[i]))\n",
    "    except:\n",
    "        print(i)\n",
    "\n",
    "for i in range(len(four)):\n",
    "    try:\n",
    "        stemming_four.append(tokenizer_porter(four[i]))\n",
    "    except:\n",
    "        print(i)\n",
    "        \n",
    "for i in range(len(five)):\n",
    "    try:\n",
    "        stemming_five.append(tokenizer_porter(five[i]))\n",
    "    except:\n",
    "        print(i)\n"
   ]
  },
  {
   "cell_type": "code",
   "execution_count": 11,
   "metadata": {
    "collapsed": false,
    "deletable": true,
    "editable": true
   },
   "outputs": [],
   "source": [
    "# 관사 접속사 제거\n",
    "stopword_one = []\n",
    "stopword_two = []\n",
    "stopword_three = []\n",
    "stopword_four = []\n",
    "stopword_five = []\n",
    "from nltk.corpus import stopwords\n",
    "stop = stopwords.words('english')\n",
    "for i in range(len(stemming_one)):\n",
    "    for j in stemming_one[i]:\n",
    "        if j not in stop:\n",
    "            stopword_one.append(j)\n",
    "for i in range(len(stemming_two)):\n",
    "    for j in stemming_two[i]:\n",
    "        if j not in stop:\n",
    "            stopword_two.append(j)\n",
    "for i in range(len(stemming_three)):\n",
    "    for j in stemming_three[i]:\n",
    "        if j not in stop:\n",
    "            stopword_three.append(j)\n",
    "for i in range(len(stemming_four)):\n",
    "    for j in stemming_four[i]:\n",
    "        if j not in stop:\n",
    "            stopword_four.append(j)\n",
    "for i in range(len(stemming_five)):\n",
    "    for j in stemming_five[i]:\n",
    "        if j not in stop:\n",
    "            stopword_five.append(j)"
   ]
  },
  {
   "cell_type": "code",
   "execution_count": 12,
   "metadata": {
    "collapsed": false,
    "deletable": true,
    "editable": true
   },
   "outputs": [
    {
     "data": {
      "text/plain": [
       "443445"
      ]
     },
     "execution_count": 12,
     "metadata": {},
     "output_type": "execute_result"
    }
   ],
   "source": [
    "len(stopword_one)"
   ]
  },
  {
   "cell_type": "code",
   "execution_count": null,
   "metadata": {
    "collapsed": true,
    "deletable": true,
    "editable": true
   },
   "outputs": [],
   "source": [
    "def pos_tagging(document):\n",
    "    result = nltk.pos_tag( nltk.word_tokenize(document))    \n",
    "    last_result = ['/'.join(t) for t in result]\n",
    "    return last_result"
   ]
  },
  {
   "cell_type": "code",
   "execution_count": null,
   "metadata": {
    "collapsed": true,
    "deletable": true,
    "editable": true
   },
   "outputs": [],
   "source": [
    "tag_one = [pos_tagging(one) for one in stopword_one]\n",
    "tag_two = [pos_tagging(two) for two in stopword_two]\n",
    "tag_three = [pos_tagging(three) for three in stopword_three]\n",
    "tag_four = [pos_tagging(four) for four in stopword_four]\n",
    "tag_five = [pos_tagging(five) for five in stopword_five]"
   ]
  },
  {
   "cell_type": "code",
   "execution_count": null,
   "metadata": {
    "collapsed": false,
    "deletable": true,
    "editable": true
   },
   "outputs": [],
   "source": [
    "choose_tagging_texts1 = []\n",
    "choose_tagging_texts2 = []\n",
    "choose_tagging_texts3 = []\n",
    "choose_tagging_texts4 = []\n",
    "choose_tagging_texts5 = []\n",
    "\n",
    "for i in range(len(tag_one)):\n",
    "    for j in tag_one[i]:\n",
    "        if j.split(\"/\")[1] ==\"JJ\":\n",
    "            choose_tagging_texts1.append(j)\n",
    "\n",
    "for i in range(len(tag_two)):\n",
    "    for j in tag_two[i]:\n",
    "        if j.split(\"/\")[1] ==\"JJ\":\n",
    "            choose_tagging_texts2.append(j)\n",
    "\n",
    "for i in range(len(tag_three)):\n",
    "    for j in tag_three[i]:\n",
    "        if j.split(\"/\")[1] ==\"JJ\":\n",
    "            choose_tagging_texts3.append(j)\n",
    "            \n",
    "for i in range(len(tag_four)):\n",
    "    for j in tag_four[i]:\n",
    "        if j.split(\"/\")[1] ==\"JJ\":\n",
    "            choose_tagging_texts4.append(j)\n",
    "            \n",
    "for i in range(len(tag_five)):\n",
    "    for j in tag_five[i]:\n",
    "        if j.split(\"/\")[1] ==\"JJ\":\n",
    "            choose_tagging_texts5.append(j)\n",
    "            \n",
    "# 형용사만 추출"
   ]
  },
  {
   "cell_type": "code",
   "execution_count": null,
   "metadata": {
    "collapsed": false,
    "deletable": true,
    "editable": true
   },
   "outputs": [],
   "source": [
    "from collections import Counter\n",
    "choose_tagging_texts_one = Counter(choose_tagging_texts1)\n",
    "for word, count in choose_tagging_texts_one.most_common(100):\n",
    "    print(word,count)"
   ]
  },
  {
   "cell_type": "code",
   "execution_count": null,
   "metadata": {
    "collapsed": true,
    "deletable": true,
    "editable": true
   },
   "outputs": [],
   "source": [
    "choose_tagging_texts_one = Counter(choose_tagging_texts2)\n",
    "for word, count in choose_tagging_texts_one.most_common(100):\n",
    "    print(word,count)"
   ]
  },
  {
   "cell_type": "code",
   "execution_count": null,
   "metadata": {
    "collapsed": true,
    "deletable": true,
    "editable": true
   },
   "outputs": [],
   "source": [
    "choose_tagging_texts_one = Counter(choose_tagging_texts3)\n",
    "for word, count in choose_tagging_texts_one.most_common(100):\n",
    "    print(word,count)"
   ]
  },
  {
   "cell_type": "code",
   "execution_count": null,
   "metadata": {
    "collapsed": true,
    "deletable": true,
    "editable": true
   },
   "outputs": [],
   "source": [
    "choose_tagging_texts_one = Counter(choose_tagging_texts4)\n",
    "for word, count in choose_tagging_texts_one.most_common(100):\n",
    "    print(word,count)"
   ]
  },
  {
   "cell_type": "code",
   "execution_count": null,
   "metadata": {
    "collapsed": true,
    "deletable": true,
    "editable": true
   },
   "outputs": [],
   "source": [
    "choose_tagging_texts_one = Counter(choose_tagging_texts5)\n",
    "for word, count in choose_tagging_texts_one.most_common(100):\n",
    "    print(word,count)"
   ]
  },
  {
   "cell_type": "code",
   "execution_count": null,
   "metadata": {
    "collapsed": true,
    "deletable": true,
    "editable": true
   },
   "outputs": [],
   "source": []
  }
 ],
 "metadata": {
  "kernelspec": {
   "display_name": "Python 3",
   "language": "python",
   "name": "python3"
  },
  "language_info": {
   "codemirror_mode": {
    "name": "ipython",
    "version": 3
   },
   "file_extension": ".py",
   "mimetype": "text/x-python",
   "name": "python",
   "nbconvert_exporter": "python",
   "pygments_lexer": "ipython3",
   "version": "3.5.2"
  }
 },
 "nbformat": 4,
 "nbformat_minor": 2
}
