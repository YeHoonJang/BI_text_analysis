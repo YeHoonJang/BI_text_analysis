{
 "cells": [
  {
   "cell_type": "code",
   "execution_count": 1,
   "metadata": {
    "collapsed": true,
    "deletable": true,
    "editable": true
   },
   "outputs": [],
   "source": [
    "import json"
   ]
  },
  {
   "cell_type": "code",
   "execution_count": 2,
   "metadata": {
    "collapsed": false,
    "deletable": true,
    "editable": true,
    "scrolled": true
   },
   "outputs": [],
   "source": [
    "with open(\"reviews_Books_5.json\",\"r\") as data_file:\n",
    "    data=data_file.readlines() "
   ]
  },
  {
   "cell_type": "code",
   "execution_count": 3,
   "metadata": {
    "collapsed": false,
    "deletable": true,
    "editable": true
   },
   "outputs": [],
   "source": [
    "json_list=[]\n",
    "\n",
    "for i in range(len(data)):\n",
    "    try:\n",
    "        json_data=json.loads(data[i])\n",
    "        json_list.append(json_data)\n",
    "    except:\n",
    "        print(data[i], i)"
   ]
  },
  {
   "cell_type": "code",
   "execution_count": 4,
   "metadata": {
    "collapsed": false,
    "deletable": true,
    "editable": true
   },
   "outputs": [
    {
     "data": {
      "text/plain": [
       "8898041"
      ]
     },
     "execution_count": 4,
     "metadata": {},
     "output_type": "execute_result"
    }
   ],
   "source": [
    "len(json_list)"
   ]
  },
  {
   "cell_type": "code",
   "execution_count": 5,
   "metadata": {
    "collapsed": false,
    "deletable": true,
    "editable": true
   },
   "outputs": [],
   "source": [
    "json_review_dict={}\n",
    "for i in range(len(json_list)):\n",
    "    json_review_dict[i]=json_list[i][\"reviewText\"]"
   ]
  },
  {
   "cell_type": "code",
   "execution_count": 6,
   "metadata": {
    "collapsed": false,
    "deletable": true,
    "editable": true
   },
   "outputs": [
    {
     "data": {
      "text/plain": [
       "\"I read it in an hour. Kahlil Gibran is definitely the people's philosopher. The book itself seems to be written on impulse, and the author knows what the modern world is looking for. The context is powerful and sensitive, and more than anything it's the truth.\""
      ]
     },
     "execution_count": 6,
     "metadata": {},
     "output_type": "execute_result"
    }
   ],
   "source": [
    "json_review_dict[100]"
   ]
  },
  {
   "cell_type": "code",
   "execution_count": 7,
   "metadata": {
    "collapsed": false,
    "deletable": true,
    "editable": true
   },
   "outputs": [
    {
     "data": {
      "text/plain": [
       "8898041"
      ]
     },
     "execution_count": 7,
     "metadata": {},
     "output_type": "execute_result"
    }
   ],
   "source": [
    "len(json_review_dict)"
   ]
  },
  {
   "cell_type": "code",
   "execution_count": 8,
   "metadata": {
    "collapsed": true,
    "deletable": true,
    "editable": true
   },
   "outputs": [],
   "source": [
    "json_overall_dict={}\n",
    "for i in range(len(json_list)):\n",
    "    json_overall_dict[i]=json_list[i][\"overall\"]"
   ]
  },
  {
   "cell_type": "code",
   "execution_count": 9,
   "metadata": {
    "collapsed": false,
    "deletable": true,
    "editable": true
   },
   "outputs": [
    {
     "data": {
      "text/plain": [
       "5.0"
      ]
     },
     "execution_count": 9,
     "metadata": {},
     "output_type": "execute_result"
    }
   ],
   "source": [
    "json_overall_dict[100]"
   ]
  },
  {
   "cell_type": "code",
   "execution_count": 10,
   "metadata": {
    "collapsed": false,
    "deletable": true,
    "editable": true
   },
   "outputs": [
    {
     "data": {
      "text/plain": [
       "8898041"
      ]
     },
     "execution_count": 10,
     "metadata": {},
     "output_type": "execute_result"
    }
   ],
   "source": [
    "len(json_overall_dict)"
   ]
  },
  {
   "cell_type": "code",
   "execution_count": 11,
   "metadata": {
    "collapsed": true,
    "deletable": true,
    "editable": true
   },
   "outputs": [],
   "source": [
    "review_data = []\n",
    "for i in range(len(json_list)):\n",
    "    review_dict = {}\n",
    "    review_dict[\"overall\"]=json_list[i][\"overall\"]\n",
    "    review_dict[\"reviewText\"]=json_list[i][\"reviewText\"]\n",
    "    review_dict[\"summary\"]=json_list[i][\"summary\"]\n",
    "    review_data.append(review_dict)\n",
    "    "
   ]
  },
  {
   "cell_type": "code",
   "execution_count": 12,
   "metadata": {
    "collapsed": false,
    "deletable": true,
    "editable": true
   },
   "outputs": [],
   "source": [
    "import json\n",
    "with open(\"extract_data.json\", \"w\") as f:\n",
    "     json.dump(review_data, f)\n",
    "  "
   ]
  },
  {
   "cell_type": "code",
   "execution_count": 21,
   "metadata": {
    "collapsed": false,
    "deletable": true,
    "editable": true
   },
   "outputs": [
    {
     "data": {
      "text/plain": [
       "{'overall': 5.0,\n",
       " 'reviewText': 'I can\\'t think of a title fitting enough. What can you say about a book that you believe to be one-of-a-kind? I have yet to find a book that I can compare it to. I suppose I could at least explain why I find this book to be so unique.First of all this book covers most all of life\\'s complex issues in the simplest fashion, and in that respect it is uncanny in presentation. Secondly and astonishingly the author portrays a story of a prophet speaking to his people, but I cannot be so shallow to think that I am reading a said story... I am not reading the said story--what is actually happening is that I am the listener and Kahlil Gibran is the prophet himself.  I strongly feel that if you the reader do not come away with this feeling yourself, you are probably reading some other book.I think what would do justice in this review is to explain some feelings you may get from a brief reading, in fact with that said, I can state with confidence that many readers will peruse only a few pages at a time because the content is overwhelming in its ability to provoke thought and feeling. You may feel at times that some all important life questions are being answered. You may feel regret  like I did,  I regret not having this book earlier in life to help me. I believe that a great many of you will feel amazed. It is truly amazing how such a short simple book can have such a profound impact on a person searching for answers to life\\'s puzzles.There is a quote from the \"Urantia Book\" that is appropriate in closing this review. The quote helps to sum up one of the unexpected feelings I received from this incredible story, and that quote is.. \"The argumentative defense of any proposition is inversely proportional to the truth contained.\" ...and I give this quote because this book gives you the feeling that you are reading divine truth. I am a firm believer that if Kahlil Gibran is not a modern day prophet, no one is, and you too may come away with this belief because this is a story that really speaks to the heart of humanity. I cannot think of anyone who would not love this book.',\n",
       " 'summary': 'Cannot Be Compared'}"
      ]
     },
     "execution_count": 21,
     "metadata": {},
     "output_type": "execute_result"
    }
   ],
   "source": [
    "review_data[139]"
   ]
  },
  {
   "cell_type": "code",
   "execution_count": null,
   "metadata": {
    "collapsed": true,
    "deletable": true,
    "editable": true
   },
   "outputs": [],
   "source": []
  }
 ],
 "metadata": {
  "kernelspec": {
   "display_name": "Python 3",
   "language": "python",
   "name": "python3"
  },
  "language_info": {
   "codemirror_mode": {
    "name": "ipython",
    "version": 3
   },
   "file_extension": ".py",
   "mimetype": "text/x-python",
   "name": "python",
   "nbconvert_exporter": "python",
   "pygments_lexer": "ipython3",
   "version": "3.6.0"
  }
 },
 "nbformat": 4,
 "nbformat_minor": 2
}
