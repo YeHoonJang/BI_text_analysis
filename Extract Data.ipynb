{
 "cells": [
  {
   "cell_type": "code",
   "execution_count": 1,
   "metadata": {
    "collapsed": true,
    "deletable": true,
    "editable": true
   },
   "outputs": [],
   "source": [
    "import json"
   ]
  },
  {
   "cell_type": "code",
   "execution_count": 2,
   "metadata": {
    "collapsed": false,
    "deletable": true,
    "editable": true,
    "scrolled": true
   },
   "outputs": [],
   "source": [
    "with open(\"reviews_Books_5.json\",\"r\") as data_file:\n",
    "    raw_data=data_file.readlines() "
   ]
  },
  {
   "cell_type": "code",
   "execution_count": 3,
   "metadata": {
    "collapsed": false,
    "deletable": true,
    "editable": true
   },
   "outputs": [
    {
     "name": "stdout",
     "output_type": "stream",
     "text": [
      "{\"reviewerID\": \"A2F6N60Z96CAJI\", \"asin\": \"0062121758\", \"reviewerName\": \"Bookreporter\", \"helpful\": [1, 1], \"reviewText\": \"When the police are called to an apartment because of loud growling noises and a terrible stench, LAPD lieutenant Peter Decker knows this case will be unlike anything he has handled before. As police and animal experts get their first peek inside the apartment and see a full-grown tiger and the corpse of a reclusive billionaire, readers realize that Faye Kellerman's latest Decker/Lazarus novel, THE BEAST, presents an unusual and intriguing premise.The body is that of elderly eccentric inventor Hobart Penny, and it quickly becomes apparent that the tiger is not the killer. But who is? Decker, along with detectives Marge Dunn and Scott Oliver, begin the investigation with little to go on, but right away suspect money as the motive. P 435295\n"
     ]
    }
   ],
   "source": [
    "json_list=[]\n",
    "\n",
    "for i in range(len(raw_data)):\n",
    "    try:\n",
    "        json_data=json.loads(raw_data[i])\n",
    "        json_list.append(json_data)\n",
    "    except:\n",
    "        print(raw_data[i], i)"
   ]
  },
  {
   "cell_type": "code",
   "execution_count": 32,
   "metadata": {
    "collapsed": true,
    "deletable": true,
    "editable": true
   },
   "outputs": [],
   "source": [
    "review_data = []\n",
    "for i in range(len(json_list)):\n",
    "    review_dict = {}\n",
    "    review_dict[\"overall\"]=json_list[i][\"overall\"]\n",
    "    review_dict[\"reviewText\"]=json_list[i][\"reviewText\"]\n",
    "    review_dict[\"summary\"]=json_list[i][\"summary\"]\n",
    "    review_data.append(review_dict)\n",
    "    "
   ]
  },
  {
   "cell_type": "code",
   "execution_count": 5,
   "metadata": {
    "collapsed": false,
    "deletable": true,
    "editable": true
   },
   "outputs": [],
   "source": [
    "# import json\n",
    "# # with open(\"extract_data.json\", \"w\") as f:\n",
    "#      json.dump(review_data, f)\n",
    "  "
   ]
  },
  {
   "cell_type": "code",
   "execution_count": 33,
   "metadata": {
    "collapsed": false,
    "deletable": true,
    "editable": true
   },
   "outputs": [
    {
     "data": {
      "text/plain": [
       "{'overall': 5.0,\n",
       " 'reviewText': \"Reading this made my mind feel like a still pool of water, cool and quiet in a mossy grotto.  It's direct and simple wisdom has a depth of complexity that takes a quiet day to sink in, leaving you at peace.  It is best to set time aside for it, relax, absorb, and let it softly clear your mind.\",\n",
       " 'summary': 'This book will bring you peace'}"
      ]
     },
     "execution_count": 33,
     "metadata": {},
     "output_type": "execute_result"
    }
   ],
   "source": [
    "review_data[5]"
   ]
  },
  {
   "cell_type": "code",
   "execution_count": 38,
   "metadata": {
    "collapsed": false,
    "deletable": true,
    "editable": true
   },
   "outputs": [],
   "source": [
    "extract_noun =[\"I\", \"YOU\", \"THIS\", \"IT\", \"ITS\", \"BOOK\"]\n",
    "line_list=[]\n",
    "\n",
    "for i in review_data:\n",
    "    line_list=i[\"reviewText\"].upper().split(\".\")\n",
    "    specific_sentence=[]\n",
    "    for j in range(len(line_list)):\n",
    "        for k in extract_noun:\n",
    "            if k in line_list[j]:\n",
    "                specific_sentence.append(line_list[j])\n",
    "    a=set(specific_sentence)\n",
    "    i[\"reviewText\"]=\".\".join(a)"
   ]
  },
  {
   "cell_type": "code",
   "execution_count": 39,
   "metadata": {
    "collapsed": false,
    "deletable": true,
    "editable": true
   },
   "outputs": [
    {
     "data": {
      "text/plain": [
       "{'overall': 5.0,\n",
       " 'reviewText': \"  IT IS BEST TO SET TIME ASIDE FOR IT, RELAX, ABSORB, AND LET IT SOFTLY CLEAR YOUR MIND.  IT'S DIRECT AND SIMPLE WISDOM HAS A DEPTH OF COMPLEXITY THAT TAKES A QUIET DAY TO SINK IN, LEAVING YOU AT PEACE.READING THIS MADE MY MIND FEEL LIKE A STILL POOL OF WATER, COOL AND QUIET IN A MOSSY GROTTO\",\n",
       " 'summary': 'This book will bring you peace'}"
      ]
     },
     "execution_count": 39,
     "metadata": {},
     "output_type": "execute_result"
    }
   ],
   "source": [
    "review_data[5]"
   ]
  }
 ],
 "metadata": {
  "kernelspec": {
   "display_name": "Python 3",
   "language": "python",
   "name": "python3"
  },
  "language_info": {
   "codemirror_mode": {
    "name": "ipython",
    "version": 3
   },
   "file_extension": ".py",
   "mimetype": "text/x-python",
   "name": "python",
   "nbconvert_exporter": "python",
   "pygments_lexer": "ipython3",
   "version": "3.6.1"
  }
 },
 "nbformat": 4,
 "nbformat_minor": 2
}
