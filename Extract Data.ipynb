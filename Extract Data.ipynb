{
 "cells": [
  {
   "cell_type": "code",
   "execution_count": 2,
   "metadata": {
    "collapsed": true,
    "deletable": true,
    "editable": true
   },
   "outputs": [],
   "source": [
    "import json"
   ]
  },
  {
   "cell_type": "code",
   "execution_count": 3,
   "metadata": {
    "collapsed": false,
    "deletable": true,
    "editable": true,
    "scrolled": true
   },
   "outputs": [
    {
     "ename": "FileNotFoundError",
     "evalue": "[Errno 2] No such file or directory: 'reviews_Books_5.json'",
     "output_type": "error",
     "traceback": [
      "\u001b[1;31m---------------------------------------------------------------------------\u001b[0m",
      "\u001b[1;31mFileNotFoundError\u001b[0m                         Traceback (most recent call last)",
      "\u001b[1;32m<ipython-input-3-0fb043ec8efe>\u001b[0m in \u001b[0;36m<module>\u001b[1;34m()\u001b[0m\n\u001b[1;32m----> 1\u001b[1;33m \u001b[1;32mwith\u001b[0m \u001b[0mopen\u001b[0m\u001b[1;33m(\u001b[0m\u001b[1;34m\"reviews_Books_5.json\"\u001b[0m\u001b[1;33m,\u001b[0m\u001b[1;34m\"r\"\u001b[0m\u001b[1;33m)\u001b[0m \u001b[1;32mas\u001b[0m \u001b[0mdata_file\u001b[0m\u001b[1;33m:\u001b[0m\u001b[1;33m\u001b[0m\u001b[0m\n\u001b[0m\u001b[0;32m      2\u001b[0m     \u001b[0mraw_data\u001b[0m\u001b[1;33m=\u001b[0m\u001b[0mdata_file\u001b[0m\u001b[1;33m.\u001b[0m\u001b[0mreadlines\u001b[0m\u001b[1;33m(\u001b[0m\u001b[1;33m)\u001b[0m\u001b[1;33m\u001b[0m\u001b[0m\n",
      "\u001b[1;31mFileNotFoundError\u001b[0m: [Errno 2] No such file or directory: 'reviews_Books_5.json'"
     ]
    }
   ],
   "source": [
    "with open(\"reviews_Books_5.json\",\"r\") as data_file:\n",
    "    raw_data=data_file.readlines() "
   ]
  },
  {
   "cell_type": "code",
   "execution_count": 3,
   "metadata": {
    "collapsed": false,
    "deletable": true,
    "editable": true
   },
   "outputs": [],
   "source": [
    "json_list=[]\n",
    "\n",
    "for i in range(len(raw_data)):\n",
    "    try:\n",
    "        json_data=json.loads(raw_data[i])\n",
    "        json_list.append(json_data)\n",
    "    except:\n",
    "        print(raw_data[i], i)"
   ]
  },
  {
   "cell_type": "code",
   "execution_count": 4,
   "metadata": {
    "collapsed": true,
    "deletable": true,
    "editable": true
   },
   "outputs": [],
   "source": [
    "review_data = []\n",
    "for i in range(len(json_list)):\n",
    "    review_dict = {}\n",
    "    review_dict[\"overall\"]=json_list[i][\"overall\"]\n",
    "    review_dict[\"reviewText\"]=json_list[i][\"reviewText\"]\n",
    "    review_dict[\"summary\"]=json_list[i][\"summary\"]\n",
    "    review_data.append(review_dict)\n",
    "    "
   ]
  },
  {
   "cell_type": "code",
   "execution_count": 6,
   "metadata": {
    "collapsed": false,
    "deletable": true,
    "editable": true
   },
   "outputs": [
    {
     "data": {
      "text/plain": [
       "{'overall': 5.0,\n",
       " 'reviewText': \"Reading this made my mind feel like a still pool of water, cool and quiet in a mossy grotto.  It's direct and simple wisdom has a depth of complexity that takes a quiet day to sink in, leaving you at peace.  It is best to set time aside for it, relax, absorb, and let it softly clear your mind.\",\n",
       " 'summary': 'This book will bring you peace'}"
      ]
     },
     "execution_count": 6,
     "metadata": {},
     "output_type": "execute_result"
    }
   ],
   "source": [
    "review_data[5]"
   ]
  },
  {
   "cell_type": "code",
   "execution_count": 7,
   "metadata": {
    "collapsed": false,
    "deletable": true,
    "editable": true
   },
   "outputs": [],
   "source": [
    "extract_noun =[\"I\", \"YOU\", \"THIS\", \"IT\", \"ITS\", \"BOOK\"]\n",
    "line_list=[]\n",
    "\n",
    "for i in review_data:\n",
    "    line_list=i[\"reviewText\"].upper().split(\".\")\n",
    "    specific_sentence=[]\n",
    "    for j in range(len(line_list)):\n",
    "        for k in extract_noun:\n",
    "            if k in line_list[j]:\n",
    "                specific_sentence.append(line_list[j])\n",
    "    a=set(specific_sentence)\n",
    "    i[\"reviewText\"]=\".\".join(a)"
   ]
  },
  {
   "cell_type": "code",
   "execution_count": 8,
   "metadata": {
    "collapsed": false,
    "deletable": true,
    "editable": true
   },
   "outputs": [
    {
     "name": "stdout",
     "output_type": "stream",
     "text": [
      "{'overall': 5.0, 'reviewText': \"READING THIS MADE MY MIND FEEL LIKE A STILL POOL OF WATER, COOL AND QUIET IN A MOSSY GROTTO.  IT'S DIRECT AND SIMPLE WISDOM HAS A DEPTH OF COMPLEXITY THAT TAKES A QUIET DAY TO SINK IN, LEAVING YOU AT PEACE.  IT IS BEST TO SET TIME ASIDE FOR IT, RELAX, ABSORB, AND LET IT SOFTLY CLEAR YOUR MIND\", 'summary': 'This book will bring you peace'}\n",
      "8898041\n"
     ]
    }
   ],
   "source": [
    "print(review_data[5])\n",
    "print(len(review_data))"
   ]
  },
  {
   "cell_type": "code",
   "execution_count": 9,
   "metadata": {
    "collapsed": true,
    "deletable": true,
    "editable": true
   },
   "outputs": [],
   "source": [
    "import json\n",
    "with open(\"extract_data.json\", \"w\") as f:\n",
    "     json.dump(review_data, f)\n",
    "  "
   ]
  }
 ],
 "metadata": {
  "kernelspec": {
   "display_name": "Python 3",
   "language": "python",
   "name": "python3"
  },
  "language_info": {
   "codemirror_mode": {
    "name": "ipython",
    "version": 3
   },
   "file_extension": ".py",
   "mimetype": "text/x-python",
   "name": "python",
   "nbconvert_exporter": "python",
   "pygments_lexer": "ipython3",
   "version": "3.5.3"
  }
 },
 "nbformat": 4,
 "nbformat_minor": 2
}
