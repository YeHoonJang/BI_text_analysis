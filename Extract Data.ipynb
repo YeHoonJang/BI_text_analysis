{
 "cells": [
  {
   "cell_type": "code",
   "execution_count": 136,
   "metadata": {
    "collapsed": true
   },
   "outputs": [],
   "source": [
    "import json"
   ]
  },
  {
   "cell_type": "code",
   "execution_count": 137,
   "metadata": {
    "scrolled": true
   },
   "outputs": [],
   "source": [
    "with open(\"reviews_Books_5.json\",\"r\") as data_file:\n",
    "    raw_data=data_file.readlines() "
   ]
  },
  {
   "cell_type": "code",
   "execution_count": 138,
   "metadata": {},
   "outputs": [],
   "source": [
    "json_list=[]\n",
    "\n",
    "for i in range(len(raw_data)):\n",
    "    try:\n",
    "        json_data=json.loads(raw_data[i])\n",
    "        json_list.append(json_data)\n",
    "    except:\n",
    "        print(raw_data[i], i)"
   ]
  },
  {
   "cell_type": "code",
   "execution_count": 139,
   "metadata": {},
   "outputs": [],
   "source": [
    "# review_data 중 text_data만 뽑아서 dict로 만들기\n",
    "\n",
    "review_data = []\n",
    "for i in range(len(json_list)):\n",
    "    review_dict = {}\n",
    "    review_dict[\"asin\"]=json_list[i][\"asin\"]\n",
    "    review_dict[\"overall\"]=json_list[i][\"overall\"]\n",
    "    review_dict[\"reviewText\"]=json_list[i][\"reviewText\"]\n",
    "    review_dict[\"summary\"]=json_list[i][\"summary\"]\n",
    "    review_data.append(review_dict)\n"
   ]
  },
  {
   "cell_type": "code",
   "execution_count": 140,
   "metadata": {
    "scrolled": false
   },
   "outputs": [
    {
     "data": {
      "text/plain": [
       "[{'asin': '000100039X',\n",
       "  'overall': 5.0,\n",
       "  'reviewText': 'Spiritually and mentally inspiring! A book that allows you to question your morals and will help you discover who you really are!',\n",
       "  'summary': 'Wonderful!'},\n",
       " {'asin': '000100039X',\n",
       "  'overall': 5.0,\n",
       "  'reviewText': \"This is one my must have books. It is a masterpiece of spirituality. I'll be the first to admit, its literary quality isn't much. It is rather simplistically written, but the message behind it is so powerful that you have to read it. It will take you to enlightenment.\",\n",
       "  'summary': 'close to god'},\n",
       " {'asin': '000100039X',\n",
       "  'overall': 5.0,\n",
       "  'reviewText': 'This book provides a reflection that you can apply to your own life.And, a way for you to try and assess whether you are truly doing the right thing and making the most of your short time on this plane.',\n",
       "  'summary': 'Must Read for Life Afficianados'},\n",
       " {'asin': '000100039X',\n",
       "  'overall': 5.0,\n",
       "  'reviewText': \"I first read THE PROPHET in college back in the 60's. The book had a revival as did anything metaphysical in the turbulent 60's. It had a profound effect on me and became a book I always took with me. After graduation I joined the Peace Corps and during stressful training in country (Liberia) at times of illness and the night before I left, this book gave me great comfort. I read it before I married, just before and again after my children were born and again after two near fatal illnesses. I am always amazed that there is a chapter that reaches out to you, grabs you and offers both comfort and hope for the future.Gibran offers timeless insights and love with each word. I think that we as a nation should read AND learn the lessons here. It is definitely a time for thought and reflection this book could guide us through.\",\n",
       "  'summary': 'Timeless for every good and bad time in your life.'},\n",
       " {'asin': '000100039X',\n",
       "  'overall': 5.0,\n",
       "  'reviewText': 'A timeless classic.  It is a very demanding and assuming title, but Gibran backs it up with some excellent style and content.  If he had the means to publish it a century or two earlier, he could have inspired a new religion.From the mouth of an old man about to sail away to a far away destination, we hear the wisdom of life and all important aspects of it.  It is a messege.  A guide book.  A Sufi sermon. Much is put in perspective without any hint of a dogma.  There is much that hints at his birth place, Lebanon where many of the old prophets walked the Earth and where this book project first germinated most likely.Probably becuase it was written in English originally, the writing flows, it is pleasant to read, and the charcoal drawings of the author decorating the pages is a plus.  I loved the cover.',\n",
       "  'summary': 'A Modern Rumi'}]"
      ]
     },
     "execution_count": 140,
     "metadata": {},
     "output_type": "execute_result"
    }
   ],
   "source": [
    "review_data[:5]"
   ]
  },
  {
   "cell_type": "code",
   "execution_count": 141,
   "metadata": {
    "scrolled": true
   },
   "outputs": [
    {
     "name": "stdout",
     "output_type": "stream",
     "text": [
      "False\n"
     ]
    }
   ],
   "source": [
    "# asin에 따라 정렬 된 review data를 랜덤하게 섞음\n",
    "\n",
    "import random\n",
    "\n",
    "random_data = random.sample(review_data, len(review_data))\n",
    "\n",
    "print(review_data==random_data)"
   ]
  },
  {
   "cell_type": "code",
   "execution_count": 142,
   "metadata": {
    "collapsed": true
   },
   "outputs": [],
   "source": [
    "import json\n",
    "with open(\"extract_random_data.json\", \"w\") as f:\n",
    "     json.dump(random_data, f)"
   ]
  },
  {
   "cell_type": "code",
   "execution_count": 143,
   "metadata": {
    "scrolled": false
   },
   "outputs": [],
   "source": [
    "# 전처리 - 특정 단어 포함 문장 추출\n",
    "\n",
    "import copy\n",
    "\n",
    "extract_noun =[\"I \", \"YOU \", \"THIS \", \"ITS \", \"BOOK \"]\n",
    "line_list=[]\n",
    "# specific_data = copy.copy(random_data)\n",
    "specific_data = random_data\n",
    "\n",
    "count=0\n",
    "for i in specific_data:\n",
    "    line_list=i[\"reviewText\"].upper().split(\".\")\n",
    "    specific_sentence=[]\n",
    "    for j in range(len(line_list)):\n",
    "        for k in extract_noun:\n",
    "            if k in line_list[j]:\n",
    "                specific_sentence.append(line_list[j])\n",
    "    specific_data[count][\"reviewText\"]=\".\".join(set(specific_sentence))\n",
    "    count+=1\n"
   ]
  },
  {
   "cell_type": "code",
   "execution_count": 144,
   "metadata": {
    "scrolled": false
   },
   "outputs": [
    {
     "name": "stdout",
     "output_type": "stream",
     "text": [
      "True\n"
     ]
    }
   ],
   "source": [
    "# random_data는 안바뀌게 하는 법을 모르겠음 ㅠ0ㅠ\n",
    "print(specific_data==random_data)"
   ]
  },
  {
   "cell_type": "code",
   "execution_count": 146,
   "metadata": {},
   "outputs": [],
   "source": [
    "import json\n",
    "with open(\"extract_specific_random_data.json\", \"w\") as f:\n",
    "     json.dump(specific_data, f)"
   ]
  }
 ],
 "metadata": {
  "kernelspec": {
   "display_name": "Python 3",
   "language": "python",
   "name": "python3"
  },
  "language_info": {
   "codemirror_mode": {
    "name": "ipython",
    "version": 3
   },
   "file_extension": ".py",
   "mimetype": "text/x-python",
   "name": "python",
   "nbconvert_exporter": "python",
   "pygments_lexer": "ipython3",
   "version": "3.5.0"
  }
 },
 "nbformat": 4,
 "nbformat_minor": 2
}
